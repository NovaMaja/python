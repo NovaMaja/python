{
  "nbformat": 4,
  "nbformat_minor": 0,
  "metadata": {
    "colab": {
      "name": "NumPy_intro.ipynb",
      "version": "0.3.2",
      "provenance": [],
      "include_colab_link": true
    },
    "kernelspec": {
      "name": "python3",
      "display_name": "Python 3"
    }
  },
  "cells": [
    {
      "cell_type": "markdown",
      "metadata": {
        "id": "view-in-github",
        "colab_type": "text"
      },
      "source": [
        "<a href=\"https://colab.research.google.com/github/NovaMaja/python/blob/master/NumPy_intro.ipynb\" target=\"_parent\"><img src=\"https://colab.research.google.com/assets/colab-badge.svg\" alt=\"Open In Colab\"/></a>"
      ]
    },
    {
      "cell_type": "markdown",
      "metadata": {
        "id": "UlS_EU-5yLPJ",
        "colab_type": "text"
      },
      "source": [
        "#NumPy\n",
        "This notebook gives a introduction to NumPy. It is designed for students of the course Python for Data Science at Nova Institute, and presents the material we go through in session one of the course. The material is designed for beginners, but it asumes the reader has some knowledge of Python programming.\n",
        "\n",
        "NumPy is one of the fundamental libraries for Data Scientists and others who work with data, numerical operations, machine learning etc. A lot of other libraries work with NumPy as well, such as matplotlib, tensorflow, pandas, opencv, and more.\n",
        "\n",
        "\n",
        "*This notebook and example materials is developed by  [Nova Institute](https://novainstitute.ca) and is released under the [MIT license](https://github.com/NovaMaja/python/blob/master/LICENSE). *\n",
        "\n",
        "##Why is Numpy so important for data scientists? \n",
        "Most data can be represented by numbers. Even images are represented by colorvalues for each pixel of the image. NumPy offers powerful numerical operations that can be applied to entire arrays of data at the same time. It also offers linear algebra functions such as matrix multiplication, transpose, identity matrices and more.\n",
        "\n",
        "Another reason is that when you are working with lists of data that are all of the same type the built in Python lists become inefficient. This is because Python lists store a bunch of  meta information such as object type and size for each element in the list. NumPy arrays only allow one type at a time, so it does not store any extra information about the objects in the array.\n",
        "\n",
        "##Documentation\n",
        "[The NumPy Manual](https://docs.scipy.org/doc/numpy/) contains user guides and reference documentation for NumPy. You should explore it to learn more about what is possible with this great library.\n",
        "\n",
        "##Let's code\n",
        "The best way to get to know NumPy is to play with it and use it. So let us try some basic NumPy functions."
      ]
    },
    {
      "cell_type": "markdown",
      "metadata": {
        "id": "z5Lthyra3b1m",
        "colab_type": "text"
      },
      "source": [
        "### Importing NumPy\n",
        "The first thing we must do is to import the NumPy library into our program. Please note that if you are running this notebook locally on your computer you may need to install NumPy first. Please refer to [The NumPy Manual](https://docs.scipy.org/doc/numpy/) for instructions.\n",
        "\n",
        "Notice that we import numpy with the alias *np*. This is common practice, you will find it in most other example code, research or any other reference to numpy. It is a good idea to stay with the convention so your code is compatibal with other NumPy code."
      ]
    },
    {
      "cell_type": "code",
      "metadata": {
        "id": "dN1M7PFo3SH5",
        "colab_type": "code",
        "colab": {}
      },
      "source": [
        "import numpy as np"
      ],
      "execution_count": 0,
      "outputs": []
    },
    {
      "cell_type": "markdown",
      "metadata": {
        "id": "sTTcI9Do4XiM",
        "colab_type": "text"
      },
      "source": [
        "Now let us make a Python list of numbers that we later can convert to a NumPy array."
      ]
    },
    {
      "cell_type": "code",
      "metadata": {
        "id": "xIFUWn7A2x3F",
        "colab_type": "code",
        "colab": {}
      },
      "source": [
        "my_numbers = [20, 432, 1, 10000, 30, 0]"
      ],
      "execution_count": 0,
      "outputs": []
    },
    {
      "cell_type": "markdown",
      "metadata": {
        "id": "GnvfOnrI2-lN",
        "colab_type": "text"
      },
      "source": [
        "We can check the type using the built in type() function in Python"
      ]
    },
    {
      "cell_type": "code",
      "metadata": {
        "id": "pQUHGByc3G5-",
        "colab_type": "code",
        "colab": {}
      },
      "source": [
        "type(my_numbers)"
      ],
      "execution_count": 0,
      "outputs": []
    },
    {
      "cell_type": "markdown",
      "metadata": {
        "id": "JVR7dMeB4i88",
        "colab_type": "text"
      },
      "source": [
        "As you can see this is a regular list. To make it into a NumPy array we can use the array function of NumPy"
      ]
    },
    {
      "cell_type": "code",
      "metadata": {
        "id": "V8vUx7A44weX",
        "colab_type": "code",
        "colab": {}
      },
      "source": [
        "my_array = np.array(my_numbers)"
      ],
      "execution_count": 0,
      "outputs": []
    },
    {
      "cell_type": "markdown",
      "metadata": {
        "id": "LXAnz5Ll42yZ",
        "colab_type": "text"
      },
      "source": [
        "Let us check the type again:"
      ]
    },
    {
      "cell_type": "code",
      "metadata": {
        "id": "qj-4nzcN45zB",
        "colab_type": "code",
        "colab": {}
      },
      "source": [
        "type(my_array)"
      ],
      "execution_count": 0,
      "outputs": []
    },
    {
      "cell_type": "markdown",
      "metadata": {
        "id": "qkTjUnVy48bN",
        "colab_type": "text"
      },
      "source": [
        "*ndarray* stands for N-dimensional array. Numpy can handle arrays of any dimension. Our list is a one dimensional array, we can check this using the *np.ndim*"
      ]
    },
    {
      "cell_type": "code",
      "metadata": {
        "id": "TC6k7fN747Om",
        "colab_type": "code",
        "colab": {}
      },
      "source": [
        "np.ndim(my_array)"
      ],
      "execution_count": 0,
      "outputs": []
    },
    {
      "cell_type": "markdown",
      "metadata": {
        "id": "W5dztcND5epS",
        "colab_type": "text"
      },
      "source": [
        "This way works too:"
      ]
    },
    {
      "cell_type": "code",
      "metadata": {
        "id": "1bfJ0G-y5U5w",
        "colab_type": "code",
        "colab": {}
      },
      "source": [
        "my_array.ndim"
      ],
      "execution_count": 0,
      "outputs": []
    },
    {
      "cell_type": "markdown",
      "metadata": {
        "id": "IvjUJwRe50jE",
        "colab_type": "text"
      },
      "source": [
        "A numpy array has a dimension, a shape, and a total number of elements. We can get the shape using *np.shape*"
      ]
    },
    {
      "cell_type": "code",
      "metadata": {
        "id": "Lurif20C6Gh3",
        "colab_type": "code",
        "colab": {}
      },
      "source": [
        "my_array.shape"
      ],
      "execution_count": 0,
      "outputs": []
    },
    {
      "cell_type": "markdown",
      "metadata": {
        "id": "uiN-MZOF6PHP",
        "colab_type": "text"
      },
      "source": [
        "Our array only has one axis with 6 elements. If it had more dimensions you would see more numbers after the comma.\n",
        "\n",
        "We can also check the total number of elements in the array with *np.size*"
      ]
    },
    {
      "cell_type": "code",
      "metadata": {
        "id": "XM9mINOg6IyL",
        "colab_type": "code",
        "colab": {}
      },
      "source": [
        "my_array.size"
      ],
      "execution_count": 0,
      "outputs": []
    },
    {
      "cell_type": "markdown",
      "metadata": {
        "id": "hqpN2nuKWsxJ",
        "colab_type": "text"
      },
      "source": [
        "We can easily generate matrixes of any dimensions. Here is how to make a 4 x 3 matrix filled with 0's:"
      ]
    },
    {
      "cell_type": "code",
      "metadata": {
        "id": "DvEIXg7O6fSa",
        "colab_type": "code",
        "colab": {}
      },
      "source": [
        "my_zeros = np.zeros((4,3))\n",
        "print(my_zeros)"
      ],
      "execution_count": 0,
      "outputs": []
    },
    {
      "cell_type": "markdown",
      "metadata": {
        "id": "J_05ESWBXGsO",
        "colab_type": "text"
      },
      "source": [
        "or a 6 x 2 matrix filled with 1's:"
      ]
    },
    {
      "cell_type": "code",
      "metadata": {
        "id": "0mFtCkYYXAa-",
        "colab_type": "code",
        "colab": {}
      },
      "source": [
        "my_ones = np.ones((6,2))\n",
        "print(my_ones)"
      ],
      "execution_count": 0,
      "outputs": []
    },
    {
      "cell_type": "markdown",
      "metadata": {
        "id": "ImL5oDVQXY0Q",
        "colab_type": "text"
      },
      "source": [
        "Let us explore the dimension, shape and size of the two matrices we just made:"
      ]
    },
    {
      "cell_type": "code",
      "metadata": {
        "id": "ock63-I7XMts",
        "colab_type": "code",
        "colab": {}
      },
      "source": [
        "print(my_ones.ndim, my_ones.shape, my_ones.size)"
      ],
      "execution_count": 0,
      "outputs": []
    },
    {
      "cell_type": "code",
      "metadata": {
        "id": "WdKLlxbmXVt7",
        "colab_type": "code",
        "colab": {}
      },
      "source": [
        "print(my_zeros.ndim, my_zeros.shape, my_zeros.size)"
      ],
      "execution_count": 0,
      "outputs": []
    },
    {
      "cell_type": "markdown",
      "metadata": {
        "id": "v1sRm4L7YETR",
        "colab_type": "text"
      },
      "source": [
        "We can generate a range of numbers using *np.arange()*"
      ]
    },
    {
      "cell_type": "code",
      "metadata": {
        "id": "jw-YJf0JYLEp",
        "colab_type": "code",
        "colab": {}
      },
      "source": [
        "my_range = np.arange(100)\n",
        "print(my_range)"
      ],
      "execution_count": 0,
      "outputs": []
    },
    {
      "cell_type": "markdown",
      "metadata": {
        "id": "8F0VO3QeYVPj",
        "colab_type": "text"
      },
      "source": [
        "It is possible to rearrange an array into a matrix using *np.reshape()*:"
      ]
    },
    {
      "cell_type": "code",
      "metadata": {
        "id": "Al6RKHVLYPbX",
        "colab_type": "code",
        "colab": {}
      },
      "source": [
        "a = my_range.reshape((10,10))\n",
        "print(a)"
      ],
      "execution_count": 0,
      "outputs": []
    },
    {
      "cell_type": "markdown",
      "metadata": {
        "id": "mBWVvgAAY0HG",
        "colab_type": "text"
      },
      "source": [
        "We can also flatten a matrix into an array using *np.ravel()*"
      ]
    },
    {
      "cell_type": "code",
      "metadata": {
        "id": "iuDQWGHVYkX9",
        "colab_type": "code",
        "colab": {}
      },
      "source": [
        "a_flat = a.ravel()\n",
        "print(a_flat)"
      ],
      "execution_count": 0,
      "outputs": []
    },
    {
      "cell_type": "markdown",
      "metadata": {
        "id": "qM3tSE6GZNu6",
        "colab_type": "text"
      },
      "source": [
        "We can easily get the transpose using *np.T*"
      ]
    },
    {
      "cell_type": "code",
      "metadata": {
        "id": "gK71TFCJYrkW",
        "colab_type": "code",
        "colab": {}
      },
      "source": [
        "a.T"
      ],
      "execution_count": 0,
      "outputs": []
    },
    {
      "cell_type": "markdown",
      "metadata": {
        "id": "1kczAWe9ZeP-",
        "colab_type": "text"
      },
      "source": [
        "If you want the sum of each row or collumn you can use *np.sum(axis_number)*"
      ]
    },
    {
      "cell_type": "code",
      "metadata": {
        "id": "ixufmXUFZTOm",
        "colab_type": "code",
        "colab": {}
      },
      "source": [
        "a.sum(0)"
      ],
      "execution_count": 0,
      "outputs": []
    },
    {
      "cell_type": "code",
      "metadata": {
        "id": "5-MznHw5Zo-B",
        "colab_type": "code",
        "colab": {}
      },
      "source": [
        "a.sum(1)"
      ],
      "execution_count": 0,
      "outputs": []
    },
    {
      "cell_type": "markdown",
      "metadata": {
        "id": "IJdOiRn6ZtuB",
        "colab_type": "text"
      },
      "source": [
        "We can even get the cumulative sum of the entire matrix:"
      ]
    },
    {
      "cell_type": "code",
      "metadata": {
        "id": "TLsg8NzvZ3rN",
        "colab_type": "code",
        "colab": {}
      },
      "source": [
        "print(a.cumsum(1))"
      ],
      "execution_count": 0,
      "outputs": []
    },
    {
      "cell_type": "code",
      "metadata": {
        "id": "0an5xom1aEma",
        "colab_type": "code",
        "colab": {}
      },
      "source": [
        "print(a.cumsum(0))"
      ],
      "execution_count": 0,
      "outputs": []
    },
    {
      "cell_type": "markdown",
      "metadata": {
        "id": "r6LQqmwEagA1",
        "colab_type": "text"
      },
      "source": [
        "This was a small intro to what NumPy can do, we will contiue to use NumPy with other libraries in this course, and you are encouraged to explore [The NumPy Manual](https://docs.scipy.org/doc/numpy/)  for reference and further examples."
      ]
    }
  ]
}