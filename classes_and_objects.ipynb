{
  "nbformat": 4,
  "nbformat_minor": 0,
  "metadata": {
    "colab": {
      "name": "classes_and_objects.ipynb",
      "version": "0.3.2",
      "provenance": [],
      "include_colab_link": true
    },
    "kernelspec": {
      "name": "python3",
      "display_name": "Python 3"
    }
  },
  "cells": [
    {
      "cell_type": "markdown",
      "metadata": {
        "id": "view-in-github",
        "colab_type": "text"
      },
      "source": [
        "<a href=\"https://colab.research.google.com/github/NovaMaja/python/blob/master/classes_and_objects.ipynb\" target=\"_parent\"><img src=\"https://colab.research.google.com/assets/colab-badge.svg\" alt=\"Open In Colab\"/></a>"
      ]
    },
    {
      "cell_type": "markdown",
      "metadata": {
        "id": "Ik_1FU9YA6jo",
        "colab_type": "text"
      },
      "source": [
        "# Classes and objects in Python\n",
        "The aim of this notebook is to aid in the understanding of classes and objects. It is designed for students of the course Python for Data Science at Nova Institute. The material is designed for beginners, however if you have no experiance with Python or programming in general we recommend you start with the [intro to Python notebook](https://github.com/NovaMaja/python/blob/master/Python_intro1.ipynb)\n",
        "\n",
        "*This notebook is developed by  [Nova Institute](https://novainstitute.ca) and is released under the [MIT license](https://github.com/NovaMaja/python/blob/master/LICENSE). *\n",
        "\n",
        "##Learning goals:\n",
        "  - Understand the difference between classes and objects\n",
        "  - Understand why we use classes and objects\n",
        "  - Be able to write our own classes, and instantiate objects from them\n",
        "  \n",
        "## What is Object Oriented Programming (OOP)?\n",
        "When you first started to learn about programming you probably wrote your code straight forward to be executed line by line. This is fine for smaller scripts where you are trying to acomplish a single task, but once you try to code something more complex you might find that your code gets hard to follow.\n",
        "\n",
        "Object oriented programming is a philosophy that states every*thing* in your program can be modeled based on objects in the real world.\n",
        "\n",
        "As an example consider a program that registers students at a college. The program has to deal with a lot of things that exist in the real world, such as __students__ , __courses__, and __teachers__. In general a __student__ takes one or more __courses__, and each course is taught by one or more __teachers__. You could also say that a __course__ has several __students__. In our example __student__, __course__, and __teacher__ are example of classes we could have in our program if we follow the object oriented philosophy.\n",
        "\n",
        "## Class vs object\n",
        "Classes are templates for objects. They define things that are common for all objects of that type. Objects are always instances of a class. \n",
        "\n",
        "You can also think of classes as a cookie mold, and objects as the cookies that are made with that mold. \n",
        "\n",
        "A class can contain variables and functions (and even inner classes, but that is out of scope for today). \n",
        "\n",
        "In our example we will have a class __student__ with variables *name*, *student_id*, and *email*. Let us define that class now:\n",
        "  \n",
        "  \n",
        "  \n"
      ]
    },
    {
      "cell_type": "code",
      "metadata": {
        "id": "2178mfyHA4j4",
        "colab_type": "code",
        "colab": {}
      },
      "source": [
        "class Student:\n",
        "  def __init__(self, name, student_id, email):\n",
        "    self.name = name\n",
        "    self.student_id = student_id\n",
        "    self.email = email\n"
      ],
      "execution_count": 0,
      "outputs": []
    },
    {
      "cell_type": "markdown",
      "metadata": {
        "id": "rvCSHW-dY0gY",
        "colab_type": "text"
      },
      "source": [
        "when we define an *init* function like this with double underscore before and after *init*, it lets Python understand that we want the code in this function to run every time we make a new __Student__ object. The arguments that are expected by the *init* function (*name*, *student_id*, and *email*) must be passed along when we make a new object.\n",
        "\n",
        "*self* is a special argument only used in classes. A class function will expect the first argument that is passed to it to be a pointer to the object itself. This is needed so that the functions can access the variables and functions contained in that object. You do not need to pass this function pointer yourself, Python takes care of that for you. But you must remember it when defining a class function. You can give it any name you want, in either case Python will interpret the first argument as a pointer to *self*. But for clarity and readability it is better to use the conventional\n",
        "name *self* \n",
        "\n",
        "\n",
        "Let us try to make 3 different objects of thw class self:"
      ]
    },
    {
      "cell_type": "code",
      "metadata": {
        "id": "UrFLY2XkcUwx",
        "colab_type": "code",
        "colab": {}
      },
      "source": [
        "student1 = Student('Jane', 1001, 'jane@novainstitute.ca')\n",
        "student2 = Student('John', 1002, 'john@novainstitute.ca')\n",
        "student3 = Student('Jill', 1003, 'jill@novainstitute.ca')"
      ],
      "execution_count": 0,
      "outputs": []
    },
    {
      "cell_type": "markdown",
      "metadata": {
        "id": "DlL4nmFAfbFw",
        "colab_type": "text"
      },
      "source": [
        "Now we can use these objects to print information about the students. "
      ]
    },
    {
      "cell_type": "code",
      "metadata": {
        "id": "p6CmBUhjgK0V",
        "colab_type": "code",
        "outputId": "14d70404-1e91-4ba5-a807-6d7976e3e237",
        "colab": {
          "base_uri": "https://localhost:8080/",
          "height": 34
        }
      },
      "source": [
        "print(student1.name)"
      ],
      "execution_count": 26,
      "outputs": [
        {
          "output_type": "stream",
          "text": [
            "Jane\n"
          ],
          "name": "stdout"
        }
      ]
    },
    {
      "cell_type": "markdown",
      "metadata": {
        "id": "V1UkqQ6Fgd5a",
        "colab_type": "text"
      },
      "source": [
        "Can you try to print more information about the students? Use the code block below and try to print each student's name, student id, and email. "
      ]
    },
    {
      "cell_type": "code",
      "metadata": {
        "id": "jJ1czAFMni8F",
        "colab_type": "code",
        "colab": {}
      },
      "source": [
        ""
      ],
      "execution_count": 0,
      "outputs": []
    },
    {
      "cell_type": "markdown",
      "metadata": {
        "id": "dHvTmiO2nn2l",
        "colab_type": "text"
      },
      "source": [
        "If we put our students in a list it will be easier to print information about all of them. "
      ]
    },
    {
      "cell_type": "code",
      "metadata": {
        "id": "LPEtsB6Fn6eY",
        "colab_type": "code",
        "outputId": "a943dadd-baae-4959-b3cf-fbc3fc7610c0",
        "colab": {
          "base_uri": "https://localhost:8080/",
          "height": 91
        }
      },
      "source": [
        "students = [student1, student2, student3]\n",
        "\n",
        "for s in students:\n",
        "  print('name: {} | student id: {} | email: {}'.format(s.name, s.student_id, s.email))"
      ],
      "execution_count": 0,
      "outputs": [
        {
          "output_type": "stream",
          "text": [
            "name: Jane | student id: 1001 | email: jane@novainstitute.ca\n",
            "name: John | student id: 1002 | email: john@novainstitute.ca\n",
            "name: Jill | student id: 1003 | email: jill@novainstitute.ca\n"
          ],
          "name": "stdout"
        }
      ]
    },
    {
      "cell_type": "markdown",
      "metadata": {
        "id": "P7vU7UTJsnE3",
        "colab_type": "text"
      },
      "source": [
        "So far our __Student__ class only has variables. We can add class functions to help us with tasks the __Student__ objects can handle themselves. \n",
        "\n",
        "Consider the previous example where we printed information about each student. We had to remember exactly what information is stored in each student object and how those class variables are spelled. What if we could let the __student__ object take care of that for us? Let us update our __Student__ class:"
      ]
    },
    {
      "cell_type": "code",
      "metadata": {
        "id": "WySmH0aAsdIw",
        "colab_type": "code",
        "colab": {}
      },
      "source": [
        "class Student:\n",
        "  def __init__(self, name, student_id, email):\n",
        "    self.name = name\n",
        "    self.student_id = student_id\n",
        "    self.email = email\n",
        "\n",
        "  def get_info(self):\n",
        "    info = 'name: {} | student_id: {} | email: {}'.format(self.name, self.student_id, self.email)\n",
        "    return info"
      ],
      "execution_count": 0,
      "outputs": []
    },
    {
      "cell_type": "markdown",
      "metadata": {
        "id": "G84uk5MJ0hUZ",
        "colab_type": "text"
      },
      "source": [
        "Now we need to update our __Student__ objects to make them instances of our improved __Student__ class. This time we will put the new objects straight into our *students* list:"
      ]
    },
    {
      "cell_type": "code",
      "metadata": {
        "id": "pEPH1DMB0t1t",
        "colab_type": "code",
        "colab": {}
      },
      "source": [
        "students = [Student('Jane', 1001, 'jane@novainstitute.ca'),\n",
        "            Student('John', 1002, 'john@novainstitute.ca'),\n",
        "            Student('Jill', 1003, 'jill@novainstitute.ca')]"
      ],
      "execution_count": 0,
      "outputs": []
    },
    {
      "cell_type": "markdown",
      "metadata": {
        "id": "D95sI3B-2l_z",
        "colab_type": "text"
      },
      "source": [
        "Compare the following code block to the one we wrote before. Using classes and objects often makes our code easier to read."
      ]
    },
    {
      "cell_type": "code",
      "metadata": {
        "id": "x0zNe4p-vSaE",
        "colab_type": "code",
        "outputId": "1990752b-27a7-45a5-e79b-a7492718e963",
        "colab": {
          "base_uri": "https://localhost:8080/",
          "height": 67
        }
      },
      "source": [
        "for s in students:\n",
        "  print(s.get_info())"
      ],
      "execution_count": 0,
      "outputs": [
        {
          "output_type": "stream",
          "text": [
            "name: Jane | student_id: 1001 | email: jane@novainstitute.ca\n",
            "name: John | student_id: 1002 | email: john@novainstitute.ca\n",
            "name: Jill | student_id: 1003 | email: jill@novainstitute.ca\n"
          ],
          "name": "stdout"
        }
      ]
    },
    {
      "cell_type": "markdown",
      "metadata": {
        "id": "tOSQbCWh3CDD",
        "colab_type": "text"
      },
      "source": [
        "## Exercise\n",
        "Each of our students are enrolled in one or more of the following courses:\n",
        "* '[Python for Data Science](https://www.novainstitute.ca/courses/python/)'\n",
        "* '[Transfer Learning](https://www.novainstitute.ca/courses/transfer-learning/)'\n",
        "* '[Machine Learning with TensorFlow and Keras](https://www.novainstitute.ca/courses/deep-learning-with-tensorflow-and-keras/)'\n",
        "* '[Introduction to IoT](https://www.novainstitute.ca/courses/introduction-to-iot-with-raspberry-pi/)'\n",
        "\n",
        "Make a class __Course__ that has class variables *name* and *students*. *students* should be a list of student-objects. Define a function *register_student(self, name, student_id, email)* that will create new student object and append it to the student list in the course  (hint: use *students.append(new_student_object)* ) . \n",
        "\n",
        "Create a new __Course__ object for each of the courses listed above, and try to register some students in the courses.\n",
        "\n"
      ]
    },
    {
      "cell_type": "code",
      "metadata": {
        "id": "CHWLYYcCCRyp",
        "colab_type": "code",
        "colab": {}
      },
      "source": [
        ""
      ],
      "execution_count": 0,
      "outputs": []
    },
    {
      "cell_type": "markdown",
      "metadata": {
        "id": "mRFl-veZCa4Y",
        "colab_type": "text"
      },
      "source": [
        "\n",
        "###Bonus exercise: \n",
        "Update the __Student__ class to also have a list of courses the student is attending, and add a function called *add_course(self, course)*. Now update the *register_student()* function in the __Course__ class to make the __Student__ objects add the course to their course list using the function you just made (*add_course()*)"
      ]
    },
    {
      "cell_type": "code",
      "metadata": {
        "id": "i8At7h7yCkiD",
        "colab_type": "code",
        "colab": {}
      },
      "source": [
        ""
      ],
      "execution_count": 0,
      "outputs": []
    },
    {
      "cell_type": "markdown",
      "metadata": {
        "id": "U7ISyIXGJqmX",
        "colab_type": "text"
      },
      "source": [
        "### Bonus excercise 2:\n",
        "If you also want to register one or more __Teachers__ to your courses, how would you do that?\n",
        "\n"
      ]
    },
    {
      "cell_type": "code",
      "metadata": {
        "id": "n9xpjC8YKV4w",
        "colab_type": "code",
        "colab": {}
      },
      "source": [
        ""
      ],
      "execution_count": 0,
      "outputs": []
    },
    {
      "cell_type": "markdown",
      "metadata": {
        "id": "Y23i1fFPKa-8",
        "colab_type": "text"
      },
      "source": [
        "### Bonus excercise 3:\n",
        "If you were to make a program for all students and all courses at a college, you might want a __College__ class... what should it look like?"
      ]
    },
    {
      "cell_type": "code",
      "metadata": {
        "id": "b7twNff5KcAa",
        "colab_type": "code",
        "colab": {}
      },
      "source": [
        ""
      ],
      "execution_count": 0,
      "outputs": []
    },
    {
      "cell_type": "markdown",
      "metadata": {
        "id": "DgsURiFcIqr2",
        "colab_type": "text"
      },
      "source": [
        "If you are a current Student at [Nova Institute](https://novainstitute.ca) feel free to ask for help with this material during lab hours, or ask your instructor directly by email or in class. If you are not currently enrolled with us you are still welcome to join [Drop-in Lab hours](https://www.novainstitute.ca/courses/drop-in-lab-hours/) when they are available. "
      ]
    }
  ]
}