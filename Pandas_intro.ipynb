{
  "nbformat": 4,
  "nbformat_minor": 0,
  "metadata": {
    "colab": {
      "name": "Pandas_intro.ipynb",
      "version": "0.3.2",
      "provenance": [],
      "include_colab_link": true
    },
    "kernelspec": {
      "name": "python3",
      "display_name": "Python 3"
    }
  },
  "cells": [
    {
      "cell_type": "markdown",
      "metadata": {
        "id": "view-in-github",
        "colab_type": "text"
      },
      "source": [
        "<a href=\"https://colab.research.google.com/github/NovaMaja/python/blob/master/Pandas_intro.ipynb\" target=\"_parent\"><img src=\"https://colab.research.google.com/assets/colab-badge.svg\" alt=\"Open In Colab\"/></a>"
      ]
    },
    {
      "cell_type": "markdown",
      "metadata": {
        "id": "FI6HPactI9X2",
        "colab_type": "text"
      },
      "source": [
        "#Intro to Pandas\n",
        "\n",
        "First we will import Pandas with the conventional alias pd:"
      ]
    },
    {
      "cell_type": "code",
      "metadata": {
        "id": "xMG14zNeyFkS",
        "colab_type": "code",
        "colab": {}
      },
      "source": [
        "import pandas as pd"
      ],
      "execution_count": 0,
      "outputs": []
    },
    {
      "cell_type": "markdown",
      "metadata": {
        "id": "hI8VLWQv9VWF",
        "colab_type": "text"
      },
      "source": [
        "##Serie and DataFrame\n",
        "__Serie__ and __DataFrame__ are two fundamental components of Pandas. A __DataFrame__ is a way to organize your data, and consists of one or more __Series__. You can think of a **DataFrame** as a table, and a **Serie** as one column of that table. \n",
        "\n",
        "###Create DataFrame from scratch\n",
        "We can create a Pandas **DataFrame** from a regular Python Dictionary. A python Dictionary is a collection of key - value pairs. You can look up a value using the key as the index. Let us first create a small dictionary:\n"
      ]
    },
    {
      "cell_type": "code",
      "metadata": {
        "id": "hPpy8J0KAtuW",
        "colab_type": "code",
        "colab": {}
      },
      "source": [
        "project_work_hours = {\n",
        "    'prototype' : [150, 75, 25],\n",
        "    'design' : [0, 75, 25],\n",
        "    'administration' : [0, 0, 75],\n",
        "}"
      ],
      "execution_count": 0,
      "outputs": []
    },
    {
      "cell_type": "markdown",
      "metadata": {
        "id": "g7KjjnTbCbsR",
        "colab_type": "text"
      },
      "source": [
        "This dictionary shows how many hours each member of the project team spent on prototyping, design, and administration of a project. The first employee spent all her time on the prototype. The second both worked on design and prototype, while the third was mostly focused on administration.\n",
        "\n",
        "We can get a list of all the hours spent on the prototype phase like this:"
      ]
    },
    {
      "cell_type": "code",
      "metadata": {
        "id": "EuZwUdJcCldx",
        "colab_type": "code",
        "outputId": "ee0ccbe2-5cb9-491a-d0ea-0526ca78b176",
        "colab": {
          "base_uri": "https://localhost:8080/",
          "height": 34
        }
      },
      "source": [
        "project_work_hours['prototype']"
      ],
      "execution_count": 0,
      "outputs": [
        {
          "output_type": "execute_result",
          "data": {
            "text/plain": [
              "[150, 75, 25]"
            ]
          },
          "metadata": {
            "tags": []
          },
          "execution_count": 3
        }
      ]
    },
    {
      "cell_type": "markdown",
      "metadata": {
        "id": "barLhJ4pCy-7",
        "colab_type": "text"
      },
      "source": [
        "It is easier to work with this data if it is in a Pandas *DataFrame*. To convert it we simply do:"
      ]
    },
    {
      "cell_type": "code",
      "metadata": {
        "id": "ik6IVU9UC6Gu",
        "colab_type": "code",
        "outputId": "546b8d9e-2f38-49bc-c7ea-d31ce9271f5a",
        "colab": {
          "base_uri": "https://localhost:8080/",
          "height": 141
        }
      },
      "source": [
        "hours = pd.DataFrame(project_work_hours)\n",
        "hours"
      ],
      "execution_count": 0,
      "outputs": [
        {
          "output_type": "execute_result",
          "data": {
            "text/html": [
              "<div>\n",
              "<style scoped>\n",
              "    .dataframe tbody tr th:only-of-type {\n",
              "        vertical-align: middle;\n",
              "    }\n",
              "\n",
              "    .dataframe tbody tr th {\n",
              "        vertical-align: top;\n",
              "    }\n",
              "\n",
              "    .dataframe thead th {\n",
              "        text-align: right;\n",
              "    }\n",
              "</style>\n",
              "<table border=\"1\" class=\"dataframe\">\n",
              "  <thead>\n",
              "    <tr style=\"text-align: right;\">\n",
              "      <th></th>\n",
              "      <th>prototype</th>\n",
              "      <th>design</th>\n",
              "      <th>administration</th>\n",
              "    </tr>\n",
              "  </thead>\n",
              "  <tbody>\n",
              "    <tr>\n",
              "      <th>0</th>\n",
              "      <td>150</td>\n",
              "      <td>0</td>\n",
              "      <td>0</td>\n",
              "    </tr>\n",
              "    <tr>\n",
              "      <th>1</th>\n",
              "      <td>75</td>\n",
              "      <td>75</td>\n",
              "      <td>0</td>\n",
              "    </tr>\n",
              "    <tr>\n",
              "      <th>2</th>\n",
              "      <td>25</td>\n",
              "      <td>25</td>\n",
              "      <td>75</td>\n",
              "    </tr>\n",
              "  </tbody>\n",
              "</table>\n",
              "</div>"
            ],
            "text/plain": [
              "   prototype  design  administration\n",
              "0        150       0               0\n",
              "1         75      75               0\n",
              "2         25      25              75"
            ]
          },
          "metadata": {
            "tags": []
          },
          "execution_count": 4
        }
      ]
    },
    {
      "cell_type": "code",
      "metadata": {
        "id": "Yg8jERuhJD4q",
        "colab_type": "code",
        "outputId": "27679020-7238-4164-8dd4-9d9f076ed44c",
        "colab": {
          "base_uri": "https://localhost:8080/",
          "height": 306
        }
      },
      "source": [
        "hours.plot( kind= 'bar');"
      ],
      "execution_count": 0,
      "outputs": [
        {
          "output_type": "display_data",
          "data": {
            "image/png": "[encoded data removed]",
            "text/plain": [
              "<Figure size 432x288 with 1 Axes>"
            ]
          },
          "metadata": {
            "tags": []
          }
        }
      ]
    },
    {
      "cell_type": "markdown",
      "metadata": {
        "id": "6SH0xDhsTL4R",
        "colab_type": "text"
      },
      "source": [
        "###Plots\n",
        "one neat trick in Pandas is that you can make matplotlib plots out of the box using pandas.DataFrame.plot()\n",
        "\n",
        "\n"
      ]
    },
    {
      "cell_type": "markdown",
      "metadata": {
        "id": "NfETMOZNHak1",
        "colab_type": "text"
      },
      "source": [
        "Notice that the keys in the dictionary became the header names, and the values became the columns."
      ]
    },
    {
      "cell_type": "markdown",
      "metadata": {
        "id": "-zPxS7Y7AtFC",
        "colab_type": "text"
      },
      "source": [
        "###Create custom index\n",
        "The default index of a Pandas **DataFrame** is a range of numbers starting at 0. We can change this to whatever we want. In our case it would make sense to use the name of the team memebers."
      ]
    },
    {
      "cell_type": "code",
      "metadata": {
        "id": "8M8xtcjrH9nj",
        "colab_type": "code",
        "outputId": "028f0d05-8a12-497b-a890-78519d818e79",
        "colab": {
          "base_uri": "https://localhost:8080/",
          "height": 141
        }
      },
      "source": [
        "hours = pd.DataFrame(project_work_hours, index = ['Jill', 'Jack', 'Yusuf'])\n",
        "hours"
      ],
      "execution_count": 0,
      "outputs": [
        {
          "output_type": "execute_result",
          "data": {
            "text/html": [
              "<div>\n",
              "<style scoped>\n",
              "    .dataframe tbody tr th:only-of-type {\n",
              "        vertical-align: middle;\n",
              "    }\n",
              "\n",
              "    .dataframe tbody tr th {\n",
              "        vertical-align: top;\n",
              "    }\n",
              "\n",
              "    .dataframe thead th {\n",
              "        text-align: right;\n",
              "    }\n",
              "</style>\n",
              "<table border=\"1\" class=\"dataframe\">\n",
              "  <thead>\n",
              "    <tr style=\"text-align: right;\">\n",
              "      <th></th>\n",
              "      <th>prototype</th>\n",
              "      <th>design</th>\n",
              "      <th>administration</th>\n",
              "    </tr>\n",
              "  </thead>\n",
              "  <tbody>\n",
              "    <tr>\n",
              "      <th>Jill</th>\n",
              "      <td>150</td>\n",
              "      <td>0</td>\n",
              "      <td>0</td>\n",
              "    </tr>\n",
              "    <tr>\n",
              "      <th>Jack</th>\n",
              "      <td>75</td>\n",
              "      <td>75</td>\n",
              "      <td>0</td>\n",
              "    </tr>\n",
              "    <tr>\n",
              "      <th>Yusuf</th>\n",
              "      <td>25</td>\n",
              "      <td>25</td>\n",
              "      <td>75</td>\n",
              "    </tr>\n",
              "  </tbody>\n",
              "</table>\n",
              "</div>"
            ],
            "text/plain": [
              "       prototype  design  administration\n",
              "Jill         150       0               0\n",
              "Jack          75      75               0\n",
              "Yusuf         25      25              75"
            ]
          },
          "metadata": {
            "tags": []
          },
          "execution_count": 5
        }
      ]
    },
    {
      "cell_type": "markdown",
      "metadata": {
        "id": "qASi3NWINRJm",
        "colab_type": "text"
      },
      "source": [
        "###Pandas and Numpy\n",
        "Pandas is built on Numpy, and gives us access to the same numerical operations. So if we for example want to know the total hours spent on each phase of the project we can find it using the numpy function *sum()*"
      ]
    },
    {
      "cell_type": "code",
      "metadata": {
        "id": "zzISJZGWIaju",
        "colab_type": "code",
        "outputId": "4a1639b0-fc36-4a81-ea96-a846c6277632",
        "colab": {
          "base_uri": "https://localhost:8080/",
          "height": 86
        }
      },
      "source": [
        "hours.sum()"
      ],
      "execution_count": 0,
      "outputs": [
        {
          "output_type": "execute_result",
          "data": {
            "text/plain": [
              "prototype         250\n",
              "design            100\n",
              "administration     75\n",
              "dtype: int64"
            ]
          },
          "metadata": {
            "tags": []
          },
          "execution_count": 6
        }
      ]
    },
    {
      "cell_type": "markdown",
      "metadata": {
        "id": "9lpE7qHVDA23",
        "colab_type": "text"
      },
      "source": [
        "##Load CSV files\n",
        "Most of the time we use pandas to work with data from some external source, often a csv file. We can load csv files directly into a Pandas *DataFrame* with the function *read_csv()*. *read_csv()* can read a file from your local file system, or even grab it directly from a url. We will grab a table of popular baby names in New York that we found using https://catalog.data.gov/   "
      ]
    },
    {
      "cell_type": "code",
      "metadata": {
        "id": "sKvdfy88C_h2",
        "colab_type": "code",
        "colab": {}
      },
      "source": [
        "baby_names = pd.read_csv('https://data.cityofnewyork.us/api/views/25th-nujf/rows.csv?accessType=DOWNLOAD')"
      ],
      "execution_count": 0,
      "outputs": []
    },
    {
      "cell_type": "markdown",
      "metadata": {
        "id": "P29tYsyxD7Uh",
        "colab_type": "text"
      },
      "source": [
        "to get an idea of how the data looks like we ca take a peak at the first few rows:"
      ]
    },
    {
      "cell_type": "code",
      "metadata": {
        "id": "6CKPvuJ83ewq",
        "colab_type": "code",
        "outputId": "6301a2c0-48d7-46df-960f-2d082d0f2cb5",
        "colab": {
          "base_uri": "https://localhost:8080/",
          "height": 306
        }
      },
      "source": [
        "baby_names.head()"
      ],
      "execution_count": 0,
      "outputs": [
        {
          "output_type": "execute_result",
          "data": {
            "text/html": [
              "<div>\n",
              "<style scoped>\n",
              "    .dataframe tbody tr th:only-of-type {\n",
              "        vertical-align: middle;\n",
              "    }\n",
              "\n",
              "    .dataframe tbody tr th {\n",
              "        vertical-align: top;\n",
              "    }\n",
              "\n",
              "    .dataframe thead th {\n",
              "        text-align: right;\n",
              "    }\n",
              "</style>\n",
              "<table border=\"1\" class=\"dataframe\">\n",
              "  <thead>\n",
              "    <tr style=\"text-align: right;\">\n",
              "      <th></th>\n",
              "      <th>Year of Birth</th>\n",
              "      <th>Gender</th>\n",
              "      <th>Ethnicity</th>\n",
              "      <th>Child's First Name</th>\n",
              "      <th>Count</th>\n",
              "      <th>Rank</th>\n",
              "    </tr>\n",
              "  </thead>\n",
              "  <tbody>\n",
              "    <tr>\n",
              "      <th>0</th>\n",
              "      <td>2016</td>\n",
              "      <td>FEMALE</td>\n",
              "      <td>ASIAN AND PACIFIC ISLANDER</td>\n",
              "      <td>Olivia</td>\n",
              "      <td>172</td>\n",
              "      <td>1</td>\n",
              "    </tr>\n",
              "    <tr>\n",
              "      <th>1</th>\n",
              "      <td>2016</td>\n",
              "      <td>FEMALE</td>\n",
              "      <td>ASIAN AND PACIFIC ISLANDER</td>\n",
              "      <td>Chloe</td>\n",
              "      <td>112</td>\n",
              "      <td>2</td>\n",
              "    </tr>\n",
              "    <tr>\n",
              "      <th>2</th>\n",
              "      <td>2016</td>\n",
              "      <td>FEMALE</td>\n",
              "      <td>ASIAN AND PACIFIC ISLANDER</td>\n",
              "      <td>Sophia</td>\n",
              "      <td>104</td>\n",
              "      <td>3</td>\n",
              "    </tr>\n",
              "    <tr>\n",
              "      <th>3</th>\n",
              "      <td>2016</td>\n",
              "      <td>FEMALE</td>\n",
              "      <td>ASIAN AND PACIFIC ISLANDER</td>\n",
              "      <td>Emily</td>\n",
              "      <td>99</td>\n",
              "      <td>4</td>\n",
              "    </tr>\n",
              "    <tr>\n",
              "      <th>4</th>\n",
              "      <td>2016</td>\n",
              "      <td>FEMALE</td>\n",
              "      <td>ASIAN AND PACIFIC ISLANDER</td>\n",
              "      <td>Emma</td>\n",
              "      <td>99</td>\n",
              "      <td>4</td>\n",
              "    </tr>\n",
              "  </tbody>\n",
              "</table>\n",
              "</div>"
            ],
            "text/plain": [
              "   Year of Birth  Gender  ... Count Rank\n",
              "0           2016  FEMALE  ...   172    1\n",
              "1           2016  FEMALE  ...   112    2\n",
              "2           2016  FEMALE  ...   104    3\n",
              "3           2016  FEMALE  ...    99    4\n",
              "4           2016  FEMALE  ...    99    4\n",
              "\n",
              "[5 rows x 6 columns]"
            ]
          },
          "metadata": {
            "tags": []
          },
          "execution_count": 8
        }
      ]
    },
    {
      "cell_type": "markdown",
      "metadata": {
        "id": "o29rxRYwECph",
        "colab_type": "text"
      },
      "source": [
        "... or the last few rows:"
      ]
    },
    {
      "cell_type": "code",
      "metadata": {
        "id": "q6YgiBW2_RR8",
        "colab_type": "code",
        "outputId": "4afc31eb-88bf-42d8-d6e9-8c05bfdafa9d",
        "colab": {
          "base_uri": "https://localhost:8080/",
          "height": 203
        }
      },
      "source": [
        "baby_names.tail()"
      ],
      "execution_count": 0,
      "outputs": [
        {
          "output_type": "execute_result",
          "data": {
            "text/html": [
              "<div>\n",
              "<style scoped>\n",
              "    .dataframe tbody tr th:only-of-type {\n",
              "        vertical-align: middle;\n",
              "    }\n",
              "\n",
              "    .dataframe tbody tr th {\n",
              "        vertical-align: top;\n",
              "    }\n",
              "\n",
              "    .dataframe thead th {\n",
              "        text-align: right;\n",
              "    }\n",
              "</style>\n",
              "<table border=\"1\" class=\"dataframe\">\n",
              "  <thead>\n",
              "    <tr style=\"text-align: right;\">\n",
              "      <th></th>\n",
              "      <th>Year of Birth</th>\n",
              "      <th>Gender</th>\n",
              "      <th>Ethnicity</th>\n",
              "      <th>Child's First Name</th>\n",
              "      <th>Count</th>\n",
              "      <th>Rank</th>\n",
              "    </tr>\n",
              "  </thead>\n",
              "  <tbody>\n",
              "    <tr>\n",
              "      <th>19413</th>\n",
              "      <td>2011</td>\n",
              "      <td>MALE</td>\n",
              "      <td>WHITE NON HISPANIC</td>\n",
              "      <td>STEPHEN</td>\n",
              "      <td>10</td>\n",
              "      <td>97</td>\n",
              "    </tr>\n",
              "    <tr>\n",
              "      <th>19414</th>\n",
              "      <td>2011</td>\n",
              "      <td>MALE</td>\n",
              "      <td>WHITE NON HISPANIC</td>\n",
              "      <td>STEPHEN</td>\n",
              "      <td>10</td>\n",
              "      <td>97</td>\n",
              "    </tr>\n",
              "    <tr>\n",
              "      <th>19415</th>\n",
              "      <td>2011</td>\n",
              "      <td>MALE</td>\n",
              "      <td>WHITE NON HISPANIC</td>\n",
              "      <td>DEREK</td>\n",
              "      <td>10</td>\n",
              "      <td>97</td>\n",
              "    </tr>\n",
              "    <tr>\n",
              "      <th>19416</th>\n",
              "      <td>2011</td>\n",
              "      <td>MALE</td>\n",
              "      <td>WHITE NON HISPANIC</td>\n",
              "      <td>BENNETT</td>\n",
              "      <td>10</td>\n",
              "      <td>97</td>\n",
              "    </tr>\n",
              "    <tr>\n",
              "      <th>19417</th>\n",
              "      <td>2011</td>\n",
              "      <td>MALE</td>\n",
              "      <td>WHITE NON HISPANIC</td>\n",
              "      <td>ELLIS</td>\n",
              "      <td>10</td>\n",
              "      <td>97</td>\n",
              "    </tr>\n",
              "  </tbody>\n",
              "</table>\n",
              "</div>"
            ],
            "text/plain": [
              "       Year of Birth Gender           Ethnicity Child's First Name  Count  Rank\n",
              "19413           2011   MALE  WHITE NON HISPANIC            STEPHEN     10    97\n",
              "19414           2011   MALE  WHITE NON HISPANIC            STEPHEN     10    97\n",
              "19415           2011   MALE  WHITE NON HISPANIC              DEREK     10    97\n",
              "19416           2011   MALE  WHITE NON HISPANIC            BENNETT     10    97\n",
              "19417           2011   MALE  WHITE NON HISPANIC              ELLIS     10    97"
            ]
          },
          "metadata": {
            "tags": []
          },
          "execution_count": 9
        }
      ]
    },
    {
      "cell_type": "markdown",
      "metadata": {
        "id": "YwjouyHxEW1S",
        "colab_type": "text"
      },
      "source": [
        "... or even a number of random rows:"
      ]
    },
    {
      "cell_type": "code",
      "metadata": {
        "id": "AEUEeIfjEcUp",
        "colab_type": "code",
        "outputId": "ce02870c-beec-4a8f-f3eb-5bc827900c2a",
        "colab": {
          "base_uri": "https://localhost:8080/",
          "height": 391
        }
      },
      "source": [
        "baby_names.sample(10)"
      ],
      "execution_count": 0,
      "outputs": [
        {
          "output_type": "execute_result",
          "data": {
            "text/html": [
              "<div>\n",
              "<style scoped>\n",
              "    .dataframe tbody tr th:only-of-type {\n",
              "        vertical-align: middle;\n",
              "    }\n",
              "\n",
              "    .dataframe tbody tr th {\n",
              "        vertical-align: top;\n",
              "    }\n",
              "\n",
              "    .dataframe thead th {\n",
              "        text-align: right;\n",
              "    }\n",
              "</style>\n",
              "<table border=\"1\" class=\"dataframe\">\n",
              "  <thead>\n",
              "    <tr style=\"text-align: right;\">\n",
              "      <th></th>\n",
              "      <th>Year of Birth</th>\n",
              "      <th>Gender</th>\n",
              "      <th>Ethnicity</th>\n",
              "      <th>Child's First Name</th>\n",
              "      <th>Count</th>\n",
              "      <th>Rank</th>\n",
              "    </tr>\n",
              "  </thead>\n",
              "  <tbody>\n",
              "    <tr>\n",
              "      <th>10673</th>\n",
              "      <td>2013</td>\n",
              "      <td>MALE</td>\n",
              "      <td>HISPANIC</td>\n",
              "      <td>Kaiden</td>\n",
              "      <td>33</td>\n",
              "      <td>72</td>\n",
              "    </tr>\n",
              "    <tr>\n",
              "      <th>12448</th>\n",
              "      <td>2012</td>\n",
              "      <td>FEMALE</td>\n",
              "      <td>HISPANIC</td>\n",
              "      <td>VANESSA</td>\n",
              "      <td>44</td>\n",
              "      <td>45</td>\n",
              "    </tr>\n",
              "    <tr>\n",
              "      <th>7615</th>\n",
              "      <td>2014</td>\n",
              "      <td>MALE</td>\n",
              "      <td>WHITE NON HISPANIC</td>\n",
              "      <td>Dean</td>\n",
              "      <td>19</td>\n",
              "      <td>93</td>\n",
              "    </tr>\n",
              "    <tr>\n",
              "      <th>18567</th>\n",
              "      <td>2011</td>\n",
              "      <td>MALE</td>\n",
              "      <td>HISPANIC</td>\n",
              "      <td>MOISES</td>\n",
              "      <td>18</td>\n",
              "      <td>86</td>\n",
              "    </tr>\n",
              "    <tr>\n",
              "      <th>8410</th>\n",
              "      <td>2013</td>\n",
              "      <td>FEMALE</td>\n",
              "      <td>BLACK NON HISPANIC</td>\n",
              "      <td>Amber</td>\n",
              "      <td>16</td>\n",
              "      <td>41</td>\n",
              "    </tr>\n",
              "    <tr>\n",
              "      <th>6183</th>\n",
              "      <td>2014</td>\n",
              "      <td>MALE</td>\n",
              "      <td>ASIAN AND PACIFIC ISLANDER</td>\n",
              "      <td>Allen</td>\n",
              "      <td>26</td>\n",
              "      <td>42</td>\n",
              "    </tr>\n",
              "    <tr>\n",
              "      <th>5462</th>\n",
              "      <td>2014</td>\n",
              "      <td>FEMALE</td>\n",
              "      <td>WHITE NON HISPANIC</td>\n",
              "      <td>Aria</td>\n",
              "      <td>45</td>\n",
              "      <td>51</td>\n",
              "    </tr>\n",
              "    <tr>\n",
              "      <th>11426</th>\n",
              "      <td>2013</td>\n",
              "      <td>MALE</td>\n",
              "      <td>WHITE NON HISPANIC</td>\n",
              "      <td>Joel</td>\n",
              "      <td>18</td>\n",
              "      <td>92</td>\n",
              "    </tr>\n",
              "    <tr>\n",
              "      <th>450</th>\n",
              "      <td>2016</td>\n",
              "      <td>FEMALE</td>\n",
              "      <td>HISPANIC</td>\n",
              "      <td>Aylin</td>\n",
              "      <td>27</td>\n",
              "      <td>57</td>\n",
              "    </tr>\n",
              "    <tr>\n",
              "      <th>5753</th>\n",
              "      <td>2014</td>\n",
              "      <td>FEMALE</td>\n",
              "      <td>WHITE NON HISPANIC</td>\n",
              "      <td>Goldy</td>\n",
              "      <td>17</td>\n",
              "      <td>79</td>\n",
              "    </tr>\n",
              "  </tbody>\n",
              "</table>\n",
              "</div>"
            ],
            "text/plain": [
              "       Year of Birth  Gender  ... Count Rank\n",
              "10673           2013    MALE  ...    33   72\n",
              "12448           2012  FEMALE  ...    44   45\n",
              "7615            2014    MALE  ...    19   93\n",
              "18567           2011    MALE  ...    18   86\n",
              "8410            2013  FEMALE  ...    16   41\n",
              "6183            2014    MALE  ...    26   42\n",
              "5462            2014  FEMALE  ...    45   51\n",
              "11426           2013    MALE  ...    18   92\n",
              "450             2016  FEMALE  ...    27   57\n",
              "5753            2014  FEMALE  ...    17   79\n",
              "\n",
              "[10 rows x 6 columns]"
            ]
          },
          "metadata": {
            "tags": []
          },
          "execution_count": 10
        }
      ]
    },
    {
      "cell_type": "markdown",
      "metadata": {
        "id": "kPVAJN8EPxqf",
        "colab_type": "text"
      },
      "source": [
        "We can get some useful information about the dataset with *info()*"
      ]
    },
    {
      "cell_type": "code",
      "metadata": {
        "id": "P9PQpdXGP31a",
        "colab_type": "code",
        "outputId": "8ea53902-b809-40c8-a64d-f43a815e96ec",
        "colab": {
          "base_uri": "https://localhost:8080/",
          "height": 206
        }
      },
      "source": [
        "baby_names.info()"
      ],
      "execution_count": 0,
      "outputs": [
        {
          "output_type": "stream",
          "text": [
            "<class 'pandas.core.frame.DataFrame'>\n",
            "RangeIndex: 19418 entries, 0 to 19417\n",
            "Data columns (total 6 columns):\n",
            "Year of Birth         19418 non-null int64\n",
            "Gender                19418 non-null object\n",
            "Ethnicity             19418 non-null object\n",
            "Child's First Name    19418 non-null object\n",
            "Count                 19418 non-null int64\n",
            "Rank                  19418 non-null int64\n",
            "dtypes: int64(3), object(3)\n",
            "memory usage: 910.3+ KB\n"
          ],
          "name": "stdout"
        }
      ]
    },
    {
      "cell_type": "markdown",
      "metadata": {
        "id": "MJgpCZ0bP9tG",
        "colab_type": "text"
      },
      "source": [
        "And we can get some descriptive statistics with *describe()*"
      ]
    },
    {
      "cell_type": "code",
      "metadata": {
        "id": "D9WmlI45Eesv",
        "colab_type": "code",
        "outputId": "27786155-469f-4073-97b0-5395aa7705f3",
        "colab": {
          "base_uri": "https://localhost:8080/",
          "height": 295
        }
      },
      "source": [
        "baby_names.describe()"
      ],
      "execution_count": 0,
      "outputs": [
        {
          "output_type": "execute_result",
          "data": {
            "text/html": [
              "<div>\n",
              "<style scoped>\n",
              "    .dataframe tbody tr th:only-of-type {\n",
              "        vertical-align: middle;\n",
              "    }\n",
              "\n",
              "    .dataframe tbody tr th {\n",
              "        vertical-align: top;\n",
              "    }\n",
              "\n",
              "    .dataframe thead th {\n",
              "        text-align: right;\n",
              "    }\n",
              "</style>\n",
              "<table border=\"1\" class=\"dataframe\">\n",
              "  <thead>\n",
              "    <tr style=\"text-align: right;\">\n",
              "      <th></th>\n",
              "      <th>Year of Birth</th>\n",
              "      <th>Count</th>\n",
              "      <th>Rank</th>\n",
              "    </tr>\n",
              "  </thead>\n",
              "  <tbody>\n",
              "    <tr>\n",
              "      <th>count</th>\n",
              "      <td>19418.000000</td>\n",
              "      <td>19418.000000</td>\n",
              "      <td>19418.000000</td>\n",
              "    </tr>\n",
              "    <tr>\n",
              "      <th>mean</th>\n",
              "      <td>2013.124318</td>\n",
              "      <td>33.520084</td>\n",
              "      <td>57.497116</td>\n",
              "    </tr>\n",
              "    <tr>\n",
              "      <th>std</th>\n",
              "      <td>1.599749</td>\n",
              "      <td>38.243201</td>\n",
              "      <td>25.363693</td>\n",
              "    </tr>\n",
              "    <tr>\n",
              "      <th>min</th>\n",
              "      <td>2011.000000</td>\n",
              "      <td>10.000000</td>\n",
              "      <td>1.000000</td>\n",
              "    </tr>\n",
              "    <tr>\n",
              "      <th>25%</th>\n",
              "      <td>2012.000000</td>\n",
              "      <td>13.000000</td>\n",
              "      <td>38.000000</td>\n",
              "    </tr>\n",
              "    <tr>\n",
              "      <th>50%</th>\n",
              "      <td>2013.000000</td>\n",
              "      <td>20.000000</td>\n",
              "      <td>59.000000</td>\n",
              "    </tr>\n",
              "    <tr>\n",
              "      <th>75%</th>\n",
              "      <td>2014.000000</td>\n",
              "      <td>36.000000</td>\n",
              "      <td>78.000000</td>\n",
              "    </tr>\n",
              "    <tr>\n",
              "      <th>max</th>\n",
              "      <td>2016.000000</td>\n",
              "      <td>426.000000</td>\n",
              "      <td>102.000000</td>\n",
              "    </tr>\n",
              "  </tbody>\n",
              "</table>\n",
              "</div>"
            ],
            "text/plain": [
              "       Year of Birth         Count          Rank\n",
              "count   19418.000000  19418.000000  19418.000000\n",
              "mean     2013.124318     33.520084     57.497116\n",
              "std         1.599749     38.243201     25.363693\n",
              "min      2011.000000     10.000000      1.000000\n",
              "25%      2012.000000     13.000000     38.000000\n",
              "50%      2013.000000     20.000000     59.000000\n",
              "75%      2014.000000     36.000000     78.000000\n",
              "max      2016.000000    426.000000    102.000000"
            ]
          },
          "metadata": {
            "tags": []
          },
          "execution_count": 12
        }
      ]
    },
    {
      "cell_type": "markdown",
      "metadata": {
        "id": "2bIL_s44RODc",
        "colab_type": "text"
      },
      "source": [
        "###Changing the column names\n",
        "Some of the column names are a little bit hard to work with because they contain quotes and spaces. We can change it, but let us first print out the column names as they are:"
      ]
    },
    {
      "cell_type": "code",
      "metadata": {
        "id": "_wL8kHgTRkyM",
        "colab_type": "code",
        "outputId": "a0494a7b-fd9a-4d4d-bb89-e07b4666ecd4",
        "colab": {
          "base_uri": "https://localhost:8080/",
          "height": 68
        }
      },
      "source": [
        "baby_names.columns"
      ],
      "execution_count": 0,
      "outputs": [
        {
          "output_type": "execute_result",
          "data": {
            "text/plain": [
              "Index(['Year of Birth', 'Gender', 'Ethnicity', 'Child's First Name', 'Count',\n",
              "       'Rank'],\n",
              "      dtype='object')"
            ]
          },
          "metadata": {
            "tags": []
          },
          "execution_count": 13
        }
      ]
    },
    {
      "cell_type": "markdown",
      "metadata": {
        "id": "JMpO_dAZRuLs",
        "colab_type": "text"
      },
      "source": [
        "Now let us change them to make them all lower case, and with no spaces or strange characters:"
      ]
    },
    {
      "cell_type": "code",
      "metadata": {
        "id": "pmPWSevvEl1T",
        "colab_type": "code",
        "colab": {}
      },
      "source": [
        "baby_names.columns = ['birth_year', 'gender', 'ethnicity', 'first_name', 'count', 'rank' ]"
      ],
      "execution_count": 0,
      "outputs": []
    },
    {
      "cell_type": "markdown",
      "metadata": {
        "id": "11RG_BidR4cW",
        "colab_type": "text"
      },
      "source": [
        "If we now take a look at a couple of rows of the DataFrame we see the column names have changed:"
      ]
    },
    {
      "cell_type": "code",
      "metadata": {
        "id": "TQA0v0F_R_fA",
        "colab_type": "code",
        "outputId": "4a1b135f-4576-463c-a319-6812c60a0718",
        "colab": {
          "base_uri": "https://localhost:8080/",
          "height": 110
        }
      },
      "source": [
        "baby_names.head(2)"
      ],
      "execution_count": 0,
      "outputs": [
        {
          "output_type": "execute_result",
          "data": {
            "text/html": [
              "<div>\n",
              "<style scoped>\n",
              "    .dataframe tbody tr th:only-of-type {\n",
              "        vertical-align: middle;\n",
              "    }\n",
              "\n",
              "    .dataframe tbody tr th {\n",
              "        vertical-align: top;\n",
              "    }\n",
              "\n",
              "    .dataframe thead th {\n",
              "        text-align: right;\n",
              "    }\n",
              "</style>\n",
              "<table border=\"1\" class=\"dataframe\">\n",
              "  <thead>\n",
              "    <tr style=\"text-align: right;\">\n",
              "      <th></th>\n",
              "      <th>birth_year</th>\n",
              "      <th>gender</th>\n",
              "      <th>ethnicity</th>\n",
              "      <th>first_name</th>\n",
              "      <th>count</th>\n",
              "      <th>rank</th>\n",
              "    </tr>\n",
              "  </thead>\n",
              "  <tbody>\n",
              "    <tr>\n",
              "      <th>0</th>\n",
              "      <td>2016</td>\n",
              "      <td>FEMALE</td>\n",
              "      <td>ASIAN AND PACIFIC ISLANDER</td>\n",
              "      <td>Olivia</td>\n",
              "      <td>172</td>\n",
              "      <td>1</td>\n",
              "    </tr>\n",
              "    <tr>\n",
              "      <th>1</th>\n",
              "      <td>2016</td>\n",
              "      <td>FEMALE</td>\n",
              "      <td>ASIAN AND PACIFIC ISLANDER</td>\n",
              "      <td>Chloe</td>\n",
              "      <td>112</td>\n",
              "      <td>2</td>\n",
              "    </tr>\n",
              "  </tbody>\n",
              "</table>\n",
              "</div>"
            ],
            "text/plain": [
              "   birth_year  gender                   ethnicity first_name  count  rank\n",
              "0        2016  FEMALE  ASIAN AND PACIFIC ISLANDER     Olivia    172     1\n",
              "1        2016  FEMALE  ASIAN AND PACIFIC ISLANDER      Chloe    112     2"
            ]
          },
          "metadata": {
            "tags": []
          },
          "execution_count": 15
        }
      ]
    },
    {
      "cell_type": "markdown",
      "metadata": {
        "id": "-URNU8qdSEj1",
        "colab_type": "text"
      },
      "source": [
        "we can also change just a few of the column names using the dictionary format:"
      ]
    },
    {
      "cell_type": "code",
      "metadata": {
        "id": "zEHfPRyTSTEh",
        "colab_type": "code",
        "colab": {}
      },
      "source": [
        "baby_names.rename(columns={\n",
        "    'first_name' : 'name',\n",
        "    'birth_year' : 'year'\n",
        "}, inplace=True)"
      ],
      "execution_count": 0,
      "outputs": []
    },
    {
      "cell_type": "markdown",
      "metadata": {
        "id": "z85dgRT9SW7Z",
        "colab_type": "text"
      },
      "source": [
        "`inplace=True` makes sure the changes are applied to the baby_names DataFrame itself in stead of returning a copy. If we do not set `inplace=True` we would have to write: \n",
        "\n",
        "```\n",
        "baby_names = baby_names.rename(columns={\n",
        "    'first_name' : 'name',\n",
        "    'birth_year' : 'year'\n",
        "})\n",
        "```\n",
        "\n"
      ]
    },
    {
      "cell_type": "markdown",
      "metadata": {
        "id": "QoyhuJtHS3IU",
        "colab_type": "text"
      },
      "source": [
        "now let us look at the **DataFrame** again"
      ]
    },
    {
      "cell_type": "code",
      "metadata": {
        "id": "mJe2BMzzS9dk",
        "colab_type": "code",
        "outputId": "5d020aac-e1de-43c6-9330-0f8c7657f6b3",
        "colab": {
          "base_uri": "https://localhost:8080/",
          "height": 203
        }
      },
      "source": [
        "baby_names.head()"
      ],
      "execution_count": 0,
      "outputs": [
        {
          "output_type": "execute_result",
          "data": {
            "text/html": [
              "<div>\n",
              "<style scoped>\n",
              "    .dataframe tbody tr th:only-of-type {\n",
              "        vertical-align: middle;\n",
              "    }\n",
              "\n",
              "    .dataframe tbody tr th {\n",
              "        vertical-align: top;\n",
              "    }\n",
              "\n",
              "    .dataframe thead th {\n",
              "        text-align: right;\n",
              "    }\n",
              "</style>\n",
              "<table border=\"1\" class=\"dataframe\">\n",
              "  <thead>\n",
              "    <tr style=\"text-align: right;\">\n",
              "      <th></th>\n",
              "      <th>year</th>\n",
              "      <th>gender</th>\n",
              "      <th>ethnicity</th>\n",
              "      <th>name</th>\n",
              "      <th>count</th>\n",
              "      <th>rank</th>\n",
              "    </tr>\n",
              "  </thead>\n",
              "  <tbody>\n",
              "    <tr>\n",
              "      <th>0</th>\n",
              "      <td>2016</td>\n",
              "      <td>FEMALE</td>\n",
              "      <td>ASIAN AND PACIFIC ISLANDER</td>\n",
              "      <td>Olivia</td>\n",
              "      <td>172</td>\n",
              "      <td>1</td>\n",
              "    </tr>\n",
              "    <tr>\n",
              "      <th>1</th>\n",
              "      <td>2016</td>\n",
              "      <td>FEMALE</td>\n",
              "      <td>ASIAN AND PACIFIC ISLANDER</td>\n",
              "      <td>Chloe</td>\n",
              "      <td>112</td>\n",
              "      <td>2</td>\n",
              "    </tr>\n",
              "    <tr>\n",
              "      <th>2</th>\n",
              "      <td>2016</td>\n",
              "      <td>FEMALE</td>\n",
              "      <td>ASIAN AND PACIFIC ISLANDER</td>\n",
              "      <td>Sophia</td>\n",
              "      <td>104</td>\n",
              "      <td>3</td>\n",
              "    </tr>\n",
              "    <tr>\n",
              "      <th>3</th>\n",
              "      <td>2016</td>\n",
              "      <td>FEMALE</td>\n",
              "      <td>ASIAN AND PACIFIC ISLANDER</td>\n",
              "      <td>Emily</td>\n",
              "      <td>99</td>\n",
              "      <td>4</td>\n",
              "    </tr>\n",
              "    <tr>\n",
              "      <th>4</th>\n",
              "      <td>2016</td>\n",
              "      <td>FEMALE</td>\n",
              "      <td>ASIAN AND PACIFIC ISLANDER</td>\n",
              "      <td>Emma</td>\n",
              "      <td>99</td>\n",
              "      <td>4</td>\n",
              "    </tr>\n",
              "  </tbody>\n",
              "</table>\n",
              "</div>"
            ],
            "text/plain": [
              "   year  gender                   ethnicity    name  count  rank\n",
              "0  2016  FEMALE  ASIAN AND PACIFIC ISLANDER  Olivia    172     1\n",
              "1  2016  FEMALE  ASIAN AND PACIFIC ISLANDER   Chloe    112     2\n",
              "2  2016  FEMALE  ASIAN AND PACIFIC ISLANDER  Sophia    104     3\n",
              "3  2016  FEMALE  ASIAN AND PACIFIC ISLANDER   Emily     99     4\n",
              "4  2016  FEMALE  ASIAN AND PACIFIC ISLANDER    Emma     99     4"
            ]
          },
          "metadata": {
            "tags": []
          },
          "execution_count": 17
        }
      ]
    },
    {
      "cell_type": "markdown",
      "metadata": {
        "id": "AlPA82TXTl0w",
        "colab_type": "text"
      },
      "source": [
        "##Cleaning data\n",
        "When working with real world data we often have incomplete or poorly formatted datasets. Pandas gives us a lot of tools to clean the data so it is ready for analysis. In this particular dataset there are a lot of duplicate entries. We can remove them using *drop_duplicates()* Before we do that, let us check how many entries we have in total:"
      ]
    },
    {
      "cell_type": "code",
      "metadata": {
        "id": "XsTnZVm8Uaqx",
        "colab_type": "code",
        "outputId": "85b40932-152c-4707-e2c5-53b5a879f46e",
        "colab": {
          "base_uri": "https://localhost:8080/",
          "height": 34
        }
      },
      "source": [
        "baby_names.shape"
      ],
      "execution_count": 0,
      "outputs": [
        {
          "output_type": "execute_result",
          "data": {
            "text/plain": [
              "(19418, 6)"
            ]
          },
          "metadata": {
            "tags": []
          },
          "execution_count": 18
        }
      ]
    },
    {
      "cell_type": "markdown",
      "metadata": {
        "id": "wMpQVMEBUdMu",
        "colab_type": "text"
      },
      "source": [
        "Now we will drop the duplicates. we can use inplace=True like before to make sure we are working on the base DataFrame and not a new copy."
      ]
    },
    {
      "cell_type": "code",
      "metadata": {
        "id": "t2_4FSaw3pZh",
        "colab_type": "code",
        "outputId": "de6a0b04-048b-4bab-ee1a-d6cc6f261e5f",
        "colab": {
          "base_uri": "https://localhost:8080/",
          "height": 34
        }
      },
      "source": [
        "baby_names.drop_duplicates(inplace = True)\n",
        "baby_names.shape"
      ],
      "execution_count": 0,
      "outputs": [
        {
          "output_type": "execute_result",
          "data": {
            "text/plain": [
              "(12181, 6)"
            ]
          },
          "metadata": {
            "tags": []
          },
          "execution_count": 19
        }
      ]
    },
    {
      "cell_type": "markdown",
      "metadata": {
        "id": "drjmuXoqUtjp",
        "colab_type": "text"
      },
      "source": [
        "We can see from the shape command that we dropped around 7000 duplicates."
      ]
    },
    {
      "cell_type": "markdown",
      "metadata": {
        "id": "DZ3lQGdYVKuf",
        "colab_type": "text"
      },
      "source": [
        "###Checking for null values\n",
        "some times datasets are incomplete, with some values not entered. This is a problem in numerical analysis, so we need to eaither remove or change those values. We cab check if our data set contains null values using *isnull()*"
      ]
    },
    {
      "cell_type": "code",
      "metadata": {
        "id": "ok3pHsRo6Fvt",
        "colab_type": "code",
        "outputId": "c06cb50a-f1c5-4eec-d7ce-2ae1f852475a",
        "colab": {
          "base_uri": "https://localhost:8080/",
          "height": 1000
        }
      },
      "source": [
        "baby_names.isnull()"
      ],
      "execution_count": 0,
      "outputs": [
        {
          "output_type": "execute_result",
          "data": {
            "text/html": [
              "<div>\n",
              "<style scoped>\n",
              "    .dataframe tbody tr th:only-of-type {\n",
              "        vertical-align: middle;\n",
              "    }\n",
              "\n",
              "    .dataframe tbody tr th {\n",
              "        vertical-align: top;\n",
              "    }\n",
              "\n",
              "    .dataframe thead th {\n",
              "        text-align: right;\n",
              "    }\n",
              "</style>\n",
              "<table border=\"1\" class=\"dataframe\">\n",
              "  <thead>\n",
              "    <tr style=\"text-align: right;\">\n",
              "      <th></th>\n",
              "      <th>year</th>\n",
              "      <th>gender</th>\n",
              "      <th>ethnicity</th>\n",
              "      <th>name</th>\n",
              "      <th>count</th>\n",
              "      <th>rank</th>\n",
              "    </tr>\n",
              "  </thead>\n",
              "  <tbody>\n",
              "    <tr>\n",
              "      <th>0</th>\n",
              "      <td>False</td>\n",
              "      <td>False</td>\n",
              "      <td>False</td>\n",
              "      <td>False</td>\n",
              "      <td>False</td>\n",
              "      <td>False</td>\n",
              "    </tr>\n",
              "    <tr>\n",
              "      <th>1</th>\n",
              "      <td>False</td>\n",
              "      <td>False</td>\n",
              "      <td>False</td>\n",
              "      <td>False</td>\n",
              "      <td>False</td>\n",
              "      <td>False</td>\n",
              "    </tr>\n",
              "    <tr>\n",
              "      <th>2</th>\n",
              "      <td>False</td>\n",
              "      <td>False</td>\n",
              "      <td>False</td>\n",
              "      <td>False</td>\n",
              "      <td>False</td>\n",
              "      <td>False</td>\n",
              "    </tr>\n",
              "    <tr>\n",
              "      <th>3</th>\n",
              "      <td>False</td>\n",
              "      <td>False</td>\n",
              "      <td>False</td>\n",
              "      <td>False</td>\n",
              "      <td>False</td>\n",
              "      <td>False</td>\n",
              "    </tr>\n",
              "    <tr>\n",
              "      <th>4</th>\n",
              "      <td>False</td>\n",
              "      <td>False</td>\n",
              "      <td>False</td>\n",
              "      <td>False</td>\n",
              "      <td>False</td>\n",
              "      <td>False</td>\n",
              "    </tr>\n",
              "    <tr>\n",
              "      <th>5</th>\n",
              "      <td>False</td>\n",
              "      <td>False</td>\n",
              "      <td>False</td>\n",
              "      <td>False</td>\n",
              "      <td>False</td>\n",
              "      <td>False</td>\n",
              "    </tr>\n",
              "    <tr>\n",
              "      <th>6</th>\n",
              "      <td>False</td>\n",
              "      <td>False</td>\n",
              "      <td>False</td>\n",
              "      <td>False</td>\n",
              "      <td>False</td>\n",
              "      <td>False</td>\n",
              "    </tr>\n",
              "    <tr>\n",
              "      <th>7</th>\n",
              "      <td>False</td>\n",
              "      <td>False</td>\n",
              "      <td>False</td>\n",
              "      <td>False</td>\n",
              "      <td>False</td>\n",
              "      <td>False</td>\n",
              "    </tr>\n",
              "    <tr>\n",
              "      <th>8</th>\n",
              "      <td>False</td>\n",
              "      <td>False</td>\n",
              "      <td>False</td>\n",
              "      <td>False</td>\n",
              "      <td>False</td>\n",
              "      <td>False</td>\n",
              "    </tr>\n",
              "    <tr>\n",
              "      <th>9</th>\n",
              "      <td>False</td>\n",
              "      <td>False</td>\n",
              "      <td>False</td>\n",
              "      <td>False</td>\n",
              "      <td>False</td>\n",
              "      <td>False</td>\n",
              "    </tr>\n",
              "    <tr>\n",
              "      <th>10</th>\n",
              "      <td>False</td>\n",
              "      <td>False</td>\n",
              "      <td>False</td>\n",
              "      <td>False</td>\n",
              "      <td>False</td>\n",
              "      <td>False</td>\n",
              "    </tr>\n",
              "    <tr>\n",
              "      <th>11</th>\n",
              "      <td>False</td>\n",
              "      <td>False</td>\n",
              "      <td>False</td>\n",
              "      <td>False</td>\n",
              "      <td>False</td>\n",
              "      <td>False</td>\n",
              "    </tr>\n",
              "    <tr>\n",
              "      <th>12</th>\n",
              "      <td>False</td>\n",
              "      <td>False</td>\n",
              "      <td>False</td>\n",
              "      <td>False</td>\n",
              "      <td>False</td>\n",
              "      <td>False</td>\n",
              "    </tr>\n",
              "    <tr>\n",
              "      <th>13</th>\n",
              "      <td>False</td>\n",
              "      <td>False</td>\n",
              "      <td>False</td>\n",
              "      <td>False</td>\n",
              "      <td>False</td>\n",
              "      <td>False</td>\n",
              "    </tr>\n",
              "    <tr>\n",
              "      <th>14</th>\n",
              "      <td>False</td>\n",
              "      <td>False</td>\n",
              "      <td>False</td>\n",
              "      <td>False</td>\n",
              "      <td>False</td>\n",
              "      <td>False</td>\n",
              "    </tr>\n",
              "    <tr>\n",
              "      <th>15</th>\n",
              "      <td>False</td>\n",
              "      <td>False</td>\n",
              "      <td>False</td>\n",
              "      <td>False</td>\n",
              "      <td>False</td>\n",
              "      <td>False</td>\n",
              "    </tr>\n",
              "    <tr>\n",
              "      <th>16</th>\n",
              "      <td>False</td>\n",
              "      <td>False</td>\n",
              "      <td>False</td>\n",
              "      <td>False</td>\n",
              "      <td>False</td>\n",
              "      <td>False</td>\n",
              "    </tr>\n",
              "    <tr>\n",
              "      <th>17</th>\n",
              "      <td>False</td>\n",
              "      <td>False</td>\n",
              "      <td>False</td>\n",
              "      <td>False</td>\n",
              "      <td>False</td>\n",
              "      <td>False</td>\n",
              "    </tr>\n",
              "    <tr>\n",
              "      <th>18</th>\n",
              "      <td>False</td>\n",
              "      <td>False</td>\n",
              "      <td>False</td>\n",
              "      <td>False</td>\n",
              "      <td>False</td>\n",
              "      <td>False</td>\n",
              "    </tr>\n",
              "    <tr>\n",
              "      <th>19</th>\n",
              "      <td>False</td>\n",
              "      <td>False</td>\n",
              "      <td>False</td>\n",
              "      <td>False</td>\n",
              "      <td>False</td>\n",
              "      <td>False</td>\n",
              "    </tr>\n",
              "    <tr>\n",
              "      <th>20</th>\n",
              "      <td>False</td>\n",
              "      <td>False</td>\n",
              "      <td>False</td>\n",
              "      <td>False</td>\n",
              "      <td>False</td>\n",
              "      <td>False</td>\n",
              "    </tr>\n",
              "    <tr>\n",
              "      <th>21</th>\n",
              "      <td>False</td>\n",
              "      <td>False</td>\n",
              "      <td>False</td>\n",
              "      <td>False</td>\n",
              "      <td>False</td>\n",
              "      <td>False</td>\n",
              "    </tr>\n",
              "    <tr>\n",
              "      <th>22</th>\n",
              "      <td>False</td>\n",
              "      <td>False</td>\n",
              "      <td>False</td>\n",
              "      <td>False</td>\n",
              "      <td>False</td>\n",
              "      <td>False</td>\n",
              "    </tr>\n",
              "    <tr>\n",
              "      <th>23</th>\n",
              "      <td>False</td>\n",
              "      <td>False</td>\n",
              "      <td>False</td>\n",
              "      <td>False</td>\n",
              "      <td>False</td>\n",
              "      <td>False</td>\n",
              "    </tr>\n",
              "    <tr>\n",
              "      <th>24</th>\n",
              "      <td>False</td>\n",
              "      <td>False</td>\n",
              "      <td>False</td>\n",
              "      <td>False</td>\n",
              "      <td>False</td>\n",
              "      <td>False</td>\n",
              "    </tr>\n",
              "    <tr>\n",
              "      <th>25</th>\n",
              "      <td>False</td>\n",
              "      <td>False</td>\n",
              "      <td>False</td>\n",
              "      <td>False</td>\n",
              "      <td>False</td>\n",
              "      <td>False</td>\n",
              "    </tr>\n",
              "    <tr>\n",
              "      <th>26</th>\n",
              "      <td>False</td>\n",
              "      <td>False</td>\n",
              "      <td>False</td>\n",
              "      <td>False</td>\n",
              "      <td>False</td>\n",
              "      <td>False</td>\n",
              "    </tr>\n",
              "    <tr>\n",
              "      <th>27</th>\n",
              "      <td>False</td>\n",
              "      <td>False</td>\n",
              "      <td>False</td>\n",
              "      <td>False</td>\n",
              "      <td>False</td>\n",
              "      <td>False</td>\n",
              "    </tr>\n",
              "    <tr>\n",
              "      <th>28</th>\n",
              "      <td>False</td>\n",
              "      <td>False</td>\n",
              "      <td>False</td>\n",
              "      <td>False</td>\n",
              "      <td>False</td>\n",
              "      <td>False</td>\n",
              "    </tr>\n",
              "    <tr>\n",
              "      <th>29</th>\n",
              "      <td>False</td>\n",
              "      <td>False</td>\n",
              "      <td>False</td>\n",
              "      <td>False</td>\n",
              "      <td>False</td>\n",
              "      <td>False</td>\n",
              "    </tr>\n",
              "    <tr>\n",
              "      <th>...</th>\n",
              "      <td>...</td>\n",
              "      <td>...</td>\n",
              "      <td>...</td>\n",
              "      <td>...</td>\n",
              "      <td>...</td>\n",
              "      <td>...</td>\n",
              "    </tr>\n",
              "    <tr>\n",
              "      <th>19353</th>\n",
              "      <td>False</td>\n",
              "      <td>False</td>\n",
              "      <td>False</td>\n",
              "      <td>False</td>\n",
              "      <td>False</td>\n",
              "      <td>False</td>\n",
              "    </tr>\n",
              "    <tr>\n",
              "      <th>19356</th>\n",
              "      <td>False</td>\n",
              "      <td>False</td>\n",
              "      <td>False</td>\n",
              "      <td>False</td>\n",
              "      <td>False</td>\n",
              "      <td>False</td>\n",
              "    </tr>\n",
              "    <tr>\n",
              "      <th>19357</th>\n",
              "      <td>False</td>\n",
              "      <td>False</td>\n",
              "      <td>False</td>\n",
              "      <td>False</td>\n",
              "      <td>False</td>\n",
              "      <td>False</td>\n",
              "    </tr>\n",
              "    <tr>\n",
              "      <th>19359</th>\n",
              "      <td>False</td>\n",
              "      <td>False</td>\n",
              "      <td>False</td>\n",
              "      <td>False</td>\n",
              "      <td>False</td>\n",
              "      <td>False</td>\n",
              "    </tr>\n",
              "    <tr>\n",
              "      <th>19361</th>\n",
              "      <td>False</td>\n",
              "      <td>False</td>\n",
              "      <td>False</td>\n",
              "      <td>False</td>\n",
              "      <td>False</td>\n",
              "      <td>False</td>\n",
              "    </tr>\n",
              "    <tr>\n",
              "      <th>19362</th>\n",
              "      <td>False</td>\n",
              "      <td>False</td>\n",
              "      <td>False</td>\n",
              "      <td>False</td>\n",
              "      <td>False</td>\n",
              "      <td>False</td>\n",
              "    </tr>\n",
              "    <tr>\n",
              "      <th>19370</th>\n",
              "      <td>False</td>\n",
              "      <td>False</td>\n",
              "      <td>False</td>\n",
              "      <td>False</td>\n",
              "      <td>False</td>\n",
              "      <td>False</td>\n",
              "    </tr>\n",
              "    <tr>\n",
              "      <th>19371</th>\n",
              "      <td>False</td>\n",
              "      <td>False</td>\n",
              "      <td>False</td>\n",
              "      <td>False</td>\n",
              "      <td>False</td>\n",
              "      <td>False</td>\n",
              "    </tr>\n",
              "    <tr>\n",
              "      <th>19373</th>\n",
              "      <td>False</td>\n",
              "      <td>False</td>\n",
              "      <td>False</td>\n",
              "      <td>False</td>\n",
              "      <td>False</td>\n",
              "      <td>False</td>\n",
              "    </tr>\n",
              "    <tr>\n",
              "      <th>19374</th>\n",
              "      <td>False</td>\n",
              "      <td>False</td>\n",
              "      <td>False</td>\n",
              "      <td>False</td>\n",
              "      <td>False</td>\n",
              "      <td>False</td>\n",
              "    </tr>\n",
              "    <tr>\n",
              "      <th>19375</th>\n",
              "      <td>False</td>\n",
              "      <td>False</td>\n",
              "      <td>False</td>\n",
              "      <td>False</td>\n",
              "      <td>False</td>\n",
              "      <td>False</td>\n",
              "    </tr>\n",
              "    <tr>\n",
              "      <th>19376</th>\n",
              "      <td>False</td>\n",
              "      <td>False</td>\n",
              "      <td>False</td>\n",
              "      <td>False</td>\n",
              "      <td>False</td>\n",
              "      <td>False</td>\n",
              "    </tr>\n",
              "    <tr>\n",
              "      <th>19377</th>\n",
              "      <td>False</td>\n",
              "      <td>False</td>\n",
              "      <td>False</td>\n",
              "      <td>False</td>\n",
              "      <td>False</td>\n",
              "      <td>False</td>\n",
              "    </tr>\n",
              "    <tr>\n",
              "      <th>19378</th>\n",
              "      <td>False</td>\n",
              "      <td>False</td>\n",
              "      <td>False</td>\n",
              "      <td>False</td>\n",
              "      <td>False</td>\n",
              "      <td>False</td>\n",
              "    </tr>\n",
              "    <tr>\n",
              "      <th>19379</th>\n",
              "      <td>False</td>\n",
              "      <td>False</td>\n",
              "      <td>False</td>\n",
              "      <td>False</td>\n",
              "      <td>False</td>\n",
              "      <td>False</td>\n",
              "    </tr>\n",
              "    <tr>\n",
              "      <th>19380</th>\n",
              "      <td>False</td>\n",
              "      <td>False</td>\n",
              "      <td>False</td>\n",
              "      <td>False</td>\n",
              "      <td>False</td>\n",
              "      <td>False</td>\n",
              "    </tr>\n",
              "    <tr>\n",
              "      <th>19381</th>\n",
              "      <td>False</td>\n",
              "      <td>False</td>\n",
              "      <td>False</td>\n",
              "      <td>False</td>\n",
              "      <td>False</td>\n",
              "      <td>False</td>\n",
              "    </tr>\n",
              "    <tr>\n",
              "      <th>19383</th>\n",
              "      <td>False</td>\n",
              "      <td>False</td>\n",
              "      <td>False</td>\n",
              "      <td>False</td>\n",
              "      <td>False</td>\n",
              "      <td>False</td>\n",
              "    </tr>\n",
              "    <tr>\n",
              "      <th>19384</th>\n",
              "      <td>False</td>\n",
              "      <td>False</td>\n",
              "      <td>False</td>\n",
              "      <td>False</td>\n",
              "      <td>False</td>\n",
              "      <td>False</td>\n",
              "    </tr>\n",
              "    <tr>\n",
              "      <th>19386</th>\n",
              "      <td>False</td>\n",
              "      <td>False</td>\n",
              "      <td>False</td>\n",
              "      <td>False</td>\n",
              "      <td>False</td>\n",
              "      <td>False</td>\n",
              "    </tr>\n",
              "    <tr>\n",
              "      <th>19387</th>\n",
              "      <td>False</td>\n",
              "      <td>False</td>\n",
              "      <td>False</td>\n",
              "      <td>False</td>\n",
              "      <td>False</td>\n",
              "      <td>False</td>\n",
              "    </tr>\n",
              "    <tr>\n",
              "      <th>19389</th>\n",
              "      <td>False</td>\n",
              "      <td>False</td>\n",
              "      <td>False</td>\n",
              "      <td>False</td>\n",
              "      <td>False</td>\n",
              "      <td>False</td>\n",
              "    </tr>\n",
              "    <tr>\n",
              "      <th>19393</th>\n",
              "      <td>False</td>\n",
              "      <td>False</td>\n",
              "      <td>False</td>\n",
              "      <td>False</td>\n",
              "      <td>False</td>\n",
              "      <td>False</td>\n",
              "    </tr>\n",
              "    <tr>\n",
              "      <th>19394</th>\n",
              "      <td>False</td>\n",
              "      <td>False</td>\n",
              "      <td>False</td>\n",
              "      <td>False</td>\n",
              "      <td>False</td>\n",
              "      <td>False</td>\n",
              "    </tr>\n",
              "    <tr>\n",
              "      <th>19395</th>\n",
              "      <td>False</td>\n",
              "      <td>False</td>\n",
              "      <td>False</td>\n",
              "      <td>False</td>\n",
              "      <td>False</td>\n",
              "      <td>False</td>\n",
              "    </tr>\n",
              "    <tr>\n",
              "      <th>19397</th>\n",
              "      <td>False</td>\n",
              "      <td>False</td>\n",
              "      <td>False</td>\n",
              "      <td>False</td>\n",
              "      <td>False</td>\n",
              "      <td>False</td>\n",
              "    </tr>\n",
              "    <tr>\n",
              "      <th>19399</th>\n",
              "      <td>False</td>\n",
              "      <td>False</td>\n",
              "      <td>False</td>\n",
              "      <td>False</td>\n",
              "      <td>False</td>\n",
              "      <td>False</td>\n",
              "    </tr>\n",
              "    <tr>\n",
              "      <th>19400</th>\n",
              "      <td>False</td>\n",
              "      <td>False</td>\n",
              "      <td>False</td>\n",
              "      <td>False</td>\n",
              "      <td>False</td>\n",
              "      <td>False</td>\n",
              "    </tr>\n",
              "    <tr>\n",
              "      <th>19411</th>\n",
              "      <td>False</td>\n",
              "      <td>False</td>\n",
              "      <td>False</td>\n",
              "      <td>False</td>\n",
              "      <td>False</td>\n",
              "      <td>False</td>\n",
              "    </tr>\n",
              "    <tr>\n",
              "      <th>19413</th>\n",
              "      <td>False</td>\n",
              "      <td>False</td>\n",
              "      <td>False</td>\n",
              "      <td>False</td>\n",
              "      <td>False</td>\n",
              "      <td>False</td>\n",
              "    </tr>\n",
              "  </tbody>\n",
              "</table>\n",
              "<p>12181 rows × 6 columns</p>\n",
              "</div>"
            ],
            "text/plain": [
              "        year  gender  ethnicity   name  count   rank\n",
              "0      False   False      False  False  False  False\n",
              "1      False   False      False  False  False  False\n",
              "2      False   False      False  False  False  False\n",
              "3      False   False      False  False  False  False\n",
              "4      False   False      False  False  False  False\n",
              "5      False   False      False  False  False  False\n",
              "6      False   False      False  False  False  False\n",
              "7      False   False      False  False  False  False\n",
              "8      False   False      False  False  False  False\n",
              "9      False   False      False  False  False  False\n",
              "10     False   False      False  False  False  False\n",
              "11     False   False      False  False  False  False\n",
              "12     False   False      False  False  False  False\n",
              "13     False   False      False  False  False  False\n",
              "14     False   False      False  False  False  False\n",
              "15     False   False      False  False  False  False\n",
              "16     False   False      False  False  False  False\n",
              "17     False   False      False  False  False  False\n",
              "18     False   False      False  False  False  False\n",
              "19     False   False      False  False  False  False\n",
              "20     False   False      False  False  False  False\n",
              "21     False   False      False  False  False  False\n",
              "22     False   False      False  False  False  False\n",
              "23     False   False      False  False  False  False\n",
              "24     False   False      False  False  False  False\n",
              "25     False   False      False  False  False  False\n",
              "26     False   False      False  False  False  False\n",
              "27     False   False      False  False  False  False\n",
              "28     False   False      False  False  False  False\n",
              "29     False   False      False  False  False  False\n",
              "...      ...     ...        ...    ...    ...    ...\n",
              "19353  False   False      False  False  False  False\n",
              "19356  False   False      False  False  False  False\n",
              "19357  False   False      False  False  False  False\n",
              "19359  False   False      False  False  False  False\n",
              "19361  False   False      False  False  False  False\n",
              "19362  False   False      False  False  False  False\n",
              "19370  False   False      False  False  False  False\n",
              "19371  False   False      False  False  False  False\n",
              "19373  False   False      False  False  False  False\n",
              "19374  False   False      False  False  False  False\n",
              "19375  False   False      False  False  False  False\n",
              "19376  False   False      False  False  False  False\n",
              "19377  False   False      False  False  False  False\n",
              "19378  False   False      False  False  False  False\n",
              "19379  False   False      False  False  False  False\n",
              "19380  False   False      False  False  False  False\n",
              "19381  False   False      False  False  False  False\n",
              "19383  False   False      False  False  False  False\n",
              "19384  False   False      False  False  False  False\n",
              "19386  False   False      False  False  False  False\n",
              "19387  False   False      False  False  False  False\n",
              "19389  False   False      False  False  False  False\n",
              "19393  False   False      False  False  False  False\n",
              "19394  False   False      False  False  False  False\n",
              "19395  False   False      False  False  False  False\n",
              "19397  False   False      False  False  False  False\n",
              "19399  False   False      False  False  False  False\n",
              "19400  False   False      False  False  False  False\n",
              "19411  False   False      False  False  False  False\n",
              "19413  False   False      False  False  False  False\n",
              "\n",
              "[12181 rows x 6 columns]"
            ]
          },
          "metadata": {
            "tags": []
          },
          "execution_count": 20
        }
      ]
    },
    {
      "cell_type": "markdown",
      "metadata": {
        "id": "ZKODI_qRVnV5",
        "colab_type": "text"
      },
      "source": [
        "*isnull()* creates a new **DataFrame** where each value is either TRUE if the original value was missing, or FALSE otherwise. This might not look like very useful information, but if we use it in combination with other functions, like *sum()* it becomes quite powerful: "
      ]
    },
    {
      "cell_type": "code",
      "metadata": {
        "id": "3i9BWxUv6I8b",
        "colab_type": "code",
        "outputId": "dbfad81f-a718-41c2-d02a-f4175f948eca",
        "colab": {
          "base_uri": "https://localhost:8080/",
          "height": 137
        }
      },
      "source": [
        "baby_names.isnull().sum()"
      ],
      "execution_count": 0,
      "outputs": [
        {
          "output_type": "execute_result",
          "data": {
            "text/plain": [
              "year         0\n",
              "gender       0\n",
              "ethnicity    0\n",
              "name         0\n",
              "count        0\n",
              "rank         0\n",
              "dtype: int64"
            ]
          },
          "metadata": {
            "tags": []
          },
          "execution_count": 21
        }
      ]
    },
    {
      "cell_type": "markdown",
      "metadata": {
        "id": "sXksz4bsWGuW",
        "colab_type": "text"
      },
      "source": [
        "In our case it seems the dataset does not contain any null values. "
      ]
    },
    {
      "cell_type": "markdown",
      "metadata": {
        "id": "SCiPVXi-UH3s",
        "colab_type": "text"
      },
      "source": [
        "##Removing or imputing NaN values\n",
        "If we did have null values in our data we would need to either remove them or change them to a value (impute). Let's explore this with a new DataFrame we make. Let's make a DataFrame like the one we had befor for the hours, but in this one in stead of entering 0 "
      ]
    }
  ]
}