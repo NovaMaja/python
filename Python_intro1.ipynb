{
  "nbformat": 4,
  "nbformat_minor": 0,
  "metadata": {
    "colab": {
      "name": "Python_intro1.ipynb",
      "version": "0.3.2",
      "provenance": [],
      "collapsed_sections": [],
      "toc_visible": true,
      "include_colab_link": true
    },
    "kernelspec": {
      "name": "python3",
      "display_name": "Python 3"
    }
  },
  "cells": [
    {
      "cell_type": "markdown",
      "metadata": {
        "id": "view-in-github",
        "colab_type": "text"
      },
      "source": [
        "<a href=\"https://colab.research.google.com/github/NovaMaja/python/blob/master/Python_intro1.ipynb\" target=\"_parent\"><img src=\"https://colab.research.google.com/assets/colab-badge.svg\" alt=\"Open In Colab\"/></a>"
      ]
    },
    {
      "metadata": {
        "id": "NH8ZqtvbIe2k",
        "colab_type": "text"
      },
      "cell_type": "markdown",
      "source": [
        "# Introduction to Python\n",
        "This notebook gives an introduction to python programming. It is designed for students of the course Python for Data Science at Nova Institute, and presents the material we go through in session one of the course. The material is designed for beginners and requires no previous programming knowledge to follow.\n",
        "\n",
        "*This notebook and example materials is developed by  [Nova Institute](https://novainstitute.ca) and is released under the [MIT license](https://https://github.com/NovaMaja/webscraping/blob/master/LICENSE). *"
      ]
    },
    {
      "metadata": {
        "id": "hSh41iayLV5z",
        "colab_type": "text"
      },
      "cell_type": "markdown",
      "source": [
        "##About Jupyter Notebooks\n",
        "This document is called a Jupyter Notebook. It is a document where you can add blocks of formatted text (such as this one), AND blocks of runnable code. \n",
        "\n",
        "To edit a block of text or code you can double click on it to enter edit mode. To execute a block of code press the play button on the left side of the block or press shift-enter when in edit mode of the block. If the code in one block depends on code in another block make sure to run the other block first.\n",
        "\n"
      ]
    },
    {
      "metadata": {
        "id": "8fZju762M0_0",
        "colab_type": "text"
      },
      "cell_type": "markdown",
      "source": [
        "##Hello World\n",
        "since the beginning of programming the first frase to write in any programming language is \"Hello World\". We will follow this great tradition and open with a statment that prints \"Hello World!\" to the output. Try to run this code:"
      ]
    },
    {
      "metadata": {
        "id": "EoXo7iOeLTxF",
        "colab_type": "code",
        "colab": {
          "base_uri": "https://localhost:8080/",
          "height": 34
        },
        "outputId": "eb5cd732-5fad-4d5a-819f-1c8d1dc1c967"
      },
      "cell_type": "code",
      "source": [
        "print('Hello World!')"
      ],
      "execution_count": 1,
      "outputs": [
        {
          "output_type": "stream",
          "text": [
            "Hello World!\n"
          ],
          "name": "stdout"
        }
      ]
    },
    {
      "metadata": {
        "id": "lFN7RJmkNZXo",
        "colab_type": "text"
      },
      "cell_type": "markdown",
      "source": [
        "As you can see python is very close to English. when we call the function\n",
        "\n",
        "```\n",
        "print()\n",
        "```\n",
        "\n",
        "we are telling the computer to print whatever is inside the brackets.\n",
        "\n",
        "Now try to make the program print your name to the output by filling in the code in the code block below:"
      ]
    },
    {
      "metadata": {
        "id": "QaAZoKILNWQv",
        "colab_type": "code",
        "colab": {}
      },
      "cell_type": "code",
      "source": [
        ""
      ],
      "execution_count": 0,
      "outputs": []
    },
    {
      "metadata": {
        "id": "IzdssCISOKvm",
        "colab_type": "text"
      },
      "cell_type": "markdown",
      "source": [
        "##Variables\n",
        "A variable is a bit like a file that you store something in. The difference is that variables are stored in working memory, while files are stored on disk. In other words variables are for information you need right away in your program. \n",
        "\n",
        "Variables in python are similar to variables in algebra. \n",
        "\n",
        "Consider the following code:"
      ]
    },
    {
      "metadata": {
        "id": "8Vs4yKpaPspI",
        "colab_type": "code",
        "colab": {
          "base_uri": "https://localhost:8080/",
          "height": 34
        },
        "outputId": "50ef67f8-aa99-473a-d79c-7788ff3b8076"
      },
      "cell_type": "code",
      "source": [
        "x = 1\n",
        "print(1 + x)"
      ],
      "execution_count": 2,
      "outputs": [
        {
          "output_type": "stream",
          "text": [
            "2\n"
          ],
          "name": "stdout"
        }
      ]
    },
    {
      "metadata": {
        "id": "QXRtbfkfP75u",
        "colab_type": "text"
      },
      "cell_type": "markdown",
      "source": [
        "We can name a variable anything we want. It is a good idea to give varaibles names that make sense in your code. This makes your code more readable for others ...and even yourself."
      ]
    },
    {
      "metadata": {
        "id": "Y2aIznlSP7EK",
        "colab_type": "code",
        "colab": {
          "base_uri": "https://localhost:8080/",
          "height": 34
        },
        "outputId": "d190e4f1-6bc8-4b4c-f4aa-99437a183272"
      },
      "cell_type": "code",
      "source": [
        "name = 'Mohamed'\n",
        "print('Hello ' + name)"
      ],
      "execution_count": 4,
      "outputs": [
        {
          "output_type": "stream",
          "text": [
            "Hello Mohamed\n"
          ],
          "name": "stdout"
        }
      ]
    },
    {
      "metadata": {
        "id": "6PA45b6aV5dy",
        "colab_type": "text"
      },
      "cell_type": "markdown",
      "source": [
        "notice that when we want to print a text directly we enclose it in single quotes. When we reference a variable (in this case the variable **name**) we do not use quotes. To illustrate the difference, try to run the next code block and compare the output to the previous one."
      ]
    },
    {
      "metadata": {
        "id": "_9zk1FpNWl0u",
        "colab_type": "code",
        "colab": {
          "base_uri": "https://localhost:8080/",
          "height": 34
        },
        "outputId": "a00955cc-65d6-4aff-c93e-6b8a2f1148b0"
      },
      "cell_type": "code",
      "source": [
        "name = 'Mohamed'\n",
        "print('Hello ' + 'name')"
      ],
      "execution_count": 5,
      "outputs": [
        {
          "output_type": "stream",
          "text": [
            "Hello name\n"
          ],
          "name": "stdout"
        }
      ]
    },
    {
      "metadata": {
        "id": "n_G9hzxSW2mC",
        "colab_type": "text"
      },
      "cell_type": "markdown",
      "source": [
        "another good thing to notice is that you can connect texts together using the plus sign."
      ]
    },
    {
      "metadata": {
        "id": "SZvcB12zXH1H",
        "colab_type": "text"
      },
      "cell_type": "markdown",
      "source": [
        "###Data Types\n",
        "variables in python are *dynamically typed*. This is important to know if you have previous experience with another programming language like C or Java. \n",
        "\n",
        "variables have different types some of these are \n",
        "\n",
        "```\n",
        "int    - a non-decimal number: 1,2,3 etc\n",
        "float  - a decimal number: 1.002, 2.32455 etc\n",
        "string - a text: \"Hello world\"\n",
        "```\n",
        "\n",
        "Because Python is dynamically typed you often do not have to worry about which type your variable is. It can even switch types during the execution of your program! \n",
        "You can not do that in languages like Java or C.\n",
        "\n",
        "\n"
      ]
    },
    {
      "metadata": {
        "id": "vk8Mfn1eWzUR",
        "colab_type": "code",
        "colab": {
          "base_uri": "https://localhost:8080/",
          "height": 51
        },
        "outputId": "5565640a-e4ca-4150-ec4d-8856684bc535"
      },
      "cell_type": "code",
      "source": [
        "a = 1\n",
        "b = 2\n",
        "print(a + b)\n",
        "\n",
        "a = \"one\"\n",
        "print(a)"
      ],
      "execution_count": 9,
      "outputs": [
        {
          "output_type": "stream",
          "text": [
            "3\n",
            "one\n"
          ],
          "name": "stdout"
        }
      ]
    },
    {
      "metadata": {
        "id": "4GbCZrtYaRng",
        "colab_type": "text"
      },
      "cell_type": "markdown",
      "source": [
        "But some times it is important to know what type a variable is. Try running the next code block"
      ]
    },
    {
      "metadata": {
        "id": "NmwQxvlkZbS0",
        "colab_type": "code",
        "colab": {
          "base_uri": "https://localhost:8080/",
          "height": 219
        },
        "outputId": "cbffc3cc-304a-41ab-a1d1-1c02c1c00e95"
      },
      "cell_type": "code",
      "source": [
        "number = 1\n",
        "text = \"two\"\n",
        "print (number + text)"
      ],
      "execution_count": 10,
      "outputs": [
        {
          "output_type": "error",
          "ename": "TypeError",
          "evalue": "ignored",
          "traceback": [
            "\u001b[0;31m---------------------------------------------------------------------------\u001b[0m",
            "\u001b[0;31mTypeError\u001b[0m                                 Traceback (most recent call last)",
            "\u001b[0;32m<ipython-input-10-3196b160209e>\u001b[0m in \u001b[0;36m<module>\u001b[0;34m()\u001b[0m\n\u001b[1;32m      1\u001b[0m \u001b[0mnumber\u001b[0m \u001b[0;34m=\u001b[0m \u001b[0;36m1\u001b[0m\u001b[0;34m\u001b[0m\u001b[0;34m\u001b[0m\u001b[0m\n\u001b[1;32m      2\u001b[0m \u001b[0mtext\u001b[0m \u001b[0;34m=\u001b[0m \u001b[0;34m\"two\"\u001b[0m\u001b[0;34m\u001b[0m\u001b[0;34m\u001b[0m\u001b[0m\n\u001b[0;32m----> 3\u001b[0;31m \u001b[0mprint\u001b[0m \u001b[0;34m(\u001b[0m\u001b[0mnumber\u001b[0m \u001b[0;34m+\u001b[0m \u001b[0mtext\u001b[0m\u001b[0;34m)\u001b[0m\u001b[0;34m\u001b[0m\u001b[0;34m\u001b[0m\u001b[0m\n\u001b[0m",
            "\u001b[0;31mTypeError\u001b[0m: unsupported operand type(s) for +: 'int' and 'str'"
          ]
        }
      ]
    },
    {
      "metadata": {
        "id": "Wbd-3HalaonS",
        "colab_type": "text"
      },
      "cell_type": "markdown",
      "source": [
        "because the two variables have different types the print function gets confused and provides an error message.\n",
        "\n",
        "You can check the type of a variable like this:\n"
      ]
    },
    {
      "metadata": {
        "id": "iNFxkSffal7w",
        "colab_type": "code",
        "colab": {
          "base_uri": "https://localhost:8080/",
          "height": 34
        },
        "outputId": "6922209b-d886-4f78-d1b4-e5e400e3d55e"
      },
      "cell_type": "code",
      "source": [
        "answer = 42\n",
        "type(answer)"
      ],
      "execution_count": 11,
      "outputs": [
        {
          "output_type": "execute_result",
          "data": {
            "text/plain": [
              "int"
            ]
          },
          "metadata": {
            "tags": []
          },
          "execution_count": 11
        }
      ]
    },
    {
      "metadata": {
        "id": "mg1gukI9beF4",
        "colab_type": "text"
      },
      "cell_type": "markdown",
      "source": [
        "Here we see that the variable **answer** has type **int**. Try to replace 42 with some text, for example 'fourty two' and run the previous code block again. "
      ]
    },
    {
      "metadata": {
        "id": "PigxHjY9c5Ko",
        "colab_type": "text"
      },
      "cell_type": "markdown",
      "source": [
        "###format()\n",
        "A lot of times we want to print texts with the value of an int or float variable in the same line, but print does not like us to mix int and str types with the + sign, so how can we get around that?\n",
        "\n",
        "One way to do this is to use the format() function. It works like this:"
      ]
    },
    {
      "metadata": {
        "id": "7TN_9IZgdkau",
        "colab_type": "code",
        "colab": {
          "base_uri": "https://localhost:8080/",
          "height": 34
        },
        "outputId": "114ae3fa-34ee-4df9-bf32-2ef2ad90dc8b"
      },
      "cell_type": "code",
      "source": [
        "value = 2\n",
        "print('the value is {}'.format(value))"
      ],
      "execution_count": 12,
      "outputs": [
        {
          "output_type": "stream",
          "text": [
            "the value is 2\n"
          ],
          "name": "stdout"
        }
      ]
    },
    {
      "metadata": {
        "id": "NBHFgll_dzLA",
        "colab_type": "text"
      },
      "cell_type": "markdown",
      "source": [
        "you can use it with as many variables as you want, and they can be different types:"
      ]
    },
    {
      "metadata": {
        "id": "aEFnAQzSeA0l",
        "colab_type": "code",
        "colab": {
          "base_uri": "https://localhost:8080/",
          "height": 54
        },
        "outputId": "41e3c924-7f12-4e0e-ef4e-d58295f90ca4"
      },
      "cell_type": "code",
      "source": [
        "int_value = 2\n",
        "float_value = 2.9\n",
        "text = 'hello world'\n",
        "print('WE now have an int of value: {}, a float of value: {},' \n",
        "      ' and a str of value: {}'.format(int_value, float_value, text))"
      ],
      "execution_count": 14,
      "outputs": [
        {
          "output_type": "stream",
          "text": [
            "WE now have an int of value: 2, a float of value: 2.9, and a str of value: hello world\n"
          ],
          "name": "stdout"
        }
      ]
    },
    {
      "metadata": {
        "id": "BMJzCjfXcKte",
        "colab_type": "text"
      },
      "cell_type": "markdown",
      "source": [
        "##Input()\n",
        "In most programs we want some sort of interaction with the user. The simplest way to do that in pyhton is using the input() function. It works like this:"
      ]
    },
    {
      "metadata": {
        "id": "pN4FxRl4cCkE",
        "colab_type": "code",
        "colab": {
          "base_uri": "https://localhost:8080/",
          "height": 51
        },
        "outputId": "69f437b1-9870-410d-cb84-bf626e315d2a"
      },
      "cell_type": "code",
      "source": [
        "name = input('What is your name?')\n",
        "print('Hello ' + name)"
      ],
      "execution_count": 15,
      "outputs": [
        {
          "output_type": "stream",
          "text": [
            "What is your name?Maja\n",
            "Hello Maja\n"
          ],
          "name": "stdout"
        }
      ]
    },
    {
      "metadata": {
        "id": "WLkkrooyXZcA",
        "colab_type": "text"
      },
      "cell_type": "markdown",
      "source": [
        "##= vs ==\n",
        "in python there are two types of equal signs:\n",
        "\n",
        "\n",
        "*   =     means \"set to\"\n",
        "*   ==   is the equal sign you know from math\n",
        "\n"
      ]
    },
    {
      "metadata": {
        "id": "Ym380FekfNpQ",
        "colab_type": "code",
        "colab": {
          "base_uri": "https://localhost:8080/",
          "height": 34
        },
        "outputId": "5089fc97-5ca8-435c-e690-514ba3b0cf52"
      },
      "cell_type": "code",
      "source": [
        "a = 1\n",
        "print(a)"
      ],
      "execution_count": 3,
      "outputs": [
        {
          "output_type": "stream",
          "text": [
            "1\n"
          ],
          "name": "stdout"
        }
      ]
    },
    {
      "metadata": {
        "id": "TsG6xLL3fpU1",
        "colab_type": "code",
        "colab": {
          "base_uri": "https://localhost:8080/",
          "height": 34
        },
        "outputId": "694a6d31-dfc8-42d7-a449-1c83c7133d35"
      },
      "cell_type": "code",
      "source": [
        "print(a == 1)"
      ],
      "execution_count": 2,
      "outputs": [
        {
          "output_type": "stream",
          "text": [
            "True\n"
          ],
          "name": "stdout"
        }
      ]
    },
    {
      "metadata": {
        "id": "f8QuyLnzfzQy",
        "colab_type": "text"
      },
      "cell_type": "markdown",
      "source": [
        "##if elif else\n",
        "Some times we only want to execute some code if a certain condition is met. This is what **if statements** are for.\n",
        "\n",
        "Try to see if you understand what is going on in the next code block:"
      ]
    },
    {
      "metadata": {
        "id": "Oc0P1_SbhQHr",
        "colab_type": "code",
        "colab": {
          "base_uri": "https://localhost:8080/",
          "height": 51
        },
        "outputId": "406659d1-a08f-4255-c344-04f25d1d7ac1"
      },
      "cell_type": "code",
      "source": [
        "answer = input('what is your favorite fruit?')\n",
        "\n",
        "if answer == 'apple':\n",
        "  print('I love Apples to!')\n",
        "elif answer == 'orange':\n",
        "  print('oranges are awesome!')\n",
        "else:\n",
        "  print('{} is the best'.format(answer))"
      ],
      "execution_count": 7,
      "outputs": [
        {
          "output_type": "stream",
          "text": [
            "what is your favorite fruit?pear\n",
            "pear is the best\n"
          ],
          "name": "stdout"
        }
      ]
    },
    {
      "metadata": {
        "id": "YAE5gI1Wl4t9",
        "colab_type": "text"
      },
      "cell_type": "markdown",
      "source": [
        "##Indents\n",
        "![alt text](https://i.imgflip.com/1gauy4.jpg)\n",
        "\n",
        "Notice that some of the code in the above block is indented? This is python's way of knowing what code belongs inside the statement and what doesn't. There are no curly brackets or similar in python so if you do not indent your code will have a different meaning than you expect it to. "
      ]
    },
    {
      "metadata": {
        "id": "J_bkwgqCnvws",
        "colab_type": "text"
      },
      "cell_type": "markdown",
      "source": [
        "##Functions\n",
        "functions are blocks of code that you want to use over and over again. \n",
        "\n",
        "A function is defined like this:"
      ]
    },
    {
      "metadata": {
        "id": "s-j4QomVqz0x",
        "colab_type": "code",
        "colab": {}
      },
      "cell_type": "code",
      "source": [
        "def hello(name):\n",
        "  print('Hello ' + name)"
      ],
      "execution_count": 0,
      "outputs": []
    },
    {
      "metadata": {
        "id": "esJqtMBUrAuG",
        "colab_type": "text"
      },
      "cell_type": "markdown",
      "source": [
        "Running the previous code block should not give any output because we have only defined the function, we did not tell the program to use the function yet. When we want the code in the function to run we do:"
      ]
    },
    {
      "metadata": {
        "id": "5cQ59DD0rb3r",
        "colab_type": "code",
        "colab": {
          "base_uri": "https://localhost:8080/",
          "height": 68
        },
        "outputId": "d87b4133-bf13-40ba-9f5b-8fe40691c146"
      },
      "cell_type": "code",
      "source": [
        "hello('Maja')\n",
        "hello('Nova Institute')\n",
        "hello('Everybody')"
      ],
      "execution_count": 23,
      "outputs": [
        {
          "output_type": "stream",
          "text": [
            "Hello Maja\n",
            "Hello Nova Institute\n",
            "Hello Everybody\n"
          ],
          "name": "stdout"
        }
      ]
    },
    {
      "metadata": {
        "id": "ROZgBn3_r2dO",
        "colab_type": "text"
      },
      "cell_type": "markdown",
      "source": [
        "You can now run the code in the function as many times as you want with different input every time. \n",
        "\n",
        "We have used functions before: print() and input() are both built in functions in Python. And now you know how to define your own functions as well."
      ]
    },
    {
      "metadata": {
        "id": "kmdHsYlhsWo1",
        "colab_type": "text"
      },
      "cell_type": "markdown",
      "source": [
        "This concludes this introductory notebook. The next \n"
      ]
    }
  ]
}