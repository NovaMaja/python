{
  "nbformat": 4,
  "nbformat_minor": 0,
  "metadata": {
    "colab": {
      "name": "Pandas_intro.ipynb",
      "version": "0.3.2",
      "provenance": [],
      "toc_visible": true,
      "include_colab_link": true
    },
    "kernelspec": {
      "name": "python3",
      "display_name": "Python 3"
    }
  },
  "cells": [
    {
      "cell_type": "markdown",
      "metadata": {
        "id": "view-in-github",
        "colab_type": "text"
      },
      "source": [
        "<a href=\"https://colab.research.google.com/github/NovaMaja/python/blob/master/Pandas_intro.ipynb\" target=\"_parent\"><img src=\"https://colab.research.google.com/assets/colab-badge.svg\" alt=\"Open In Colab\"/></a>"
      ]
    },
    {
      "cell_type": "markdown",
      "metadata": {
        "id": "FI6HPactI9X2",
        "colab_type": "text"
      },
      "source": [
        "#Intro to Pandas\n",
        "This notebook gives a introduction to Pandas. It is designed for students of the course Python for Data Science at [Nova Institute](https://www.novainstitute.ca). The material is designed for beginners, but it asumes the reader has some knowledge of Python programming and the NumPy and MatPlotLib libraries. Pandas is a great library for working with datasets, and it is one of the essential libraries for data scientists.\n",
        "\n",
        "\n",
        "*This notebook and example materials is developed by  [Nova Institute](https://novainstitute.ca) and is released under the [MIT license](https://github.com/NovaMaja/python/blob/master/LICENSE). *\n",
        "\n",
        "\n"
      ]
    },
    {
      "cell_type": "markdown",
      "metadata": {
        "id": "hdIKln91dPEk",
        "colab_type": "text"
      },
      "source": [
        "First we will import Pandas with the conventional alias **pd**:"
      ]
    },
    {
      "cell_type": "code",
      "metadata": {
        "id": "xMG14zNeyFkS",
        "colab_type": "code",
        "colab": {}
      },
      "source": [
        "import pandas as pd"
      ],
      "execution_count": 0,
      "outputs": []
    },
    {
      "cell_type": "markdown",
      "metadata": {
        "id": "hI8VLWQv9VWF",
        "colab_type": "text"
      },
      "source": [
        "##Serie and DataFrame\n",
        "[__Serie__](https://pandas.pydata.org/pandas-docs/stable/reference/series.html) and [__DataFrame__](https://pandas.pydata.org/pandas-docs/stable/reference/api/pandas.DataFrame.html) are two fundamental components of Pandas. A __DataFrame__ is a way to organize your data, and consists of one or more __Series__. You can think of a **DataFrame** as a table, and a **Serie** as one column of that table. \n",
        "\n",
        "###Create DataFrame from scratch\n",
        "We can create a Pandas **DataFrame** from a regular Python Dictionary. A python Dictionary is a collection of key - value pairs. You can look up a value using the key as the index. Let us first create a small dictionary:\n"
      ]
    },
    {
      "cell_type": "code",
      "metadata": {
        "id": "hPpy8J0KAtuW",
        "colab_type": "code",
        "colab": {}
      },
      "source": [
        "project_work_hours = {\n",
        "    'prototype' : [150, 75, 25],\n",
        "    'design' : [0, 75, 25],\n",
        "    'administration' : [0, 0, 75],\n",
        "}"
      ],
      "execution_count": 0,
      "outputs": []
    },
    {
      "cell_type": "markdown",
      "metadata": {
        "id": "g7KjjnTbCbsR",
        "colab_type": "text"
      },
      "source": [
        "This dictionary shows how many hours each member of the project team spent on prototyping, design, and administration of a project. The first employee spent all her time on the prototype. The second both worked on design and prototype, while the third was mostly focused on administration.\n",
        "\n",
        "We can get a list of all the hours spent on the prototype phase like this:"
      ]
    },
    {
      "cell_type": "code",
      "metadata": {
        "id": "EuZwUdJcCldx",
        "colab_type": "code",
        "colab": {}
      },
      "source": [
        "project_work_hours['prototype']"
      ],
      "execution_count": 0,
      "outputs": []
    },
    {
      "cell_type": "markdown",
      "metadata": {
        "id": "barLhJ4pCy-7",
        "colab_type": "text"
      },
      "source": [
        "It is easier to work with this data if it is in a Pandas *DataFrame*. To convert it we simply do:"
      ]
    },
    {
      "cell_type": "code",
      "metadata": {
        "id": "ik6IVU9UC6Gu",
        "colab_type": "code",
        "colab": {}
      },
      "source": [
        "hours = pd.DataFrame(project_work_hours)\n",
        "hours"
      ],
      "execution_count": 0,
      "outputs": []
    },
    {
      "cell_type": "markdown",
      "metadata": {
        "id": "NfETMOZNHak1",
        "colab_type": "text"
      },
      "source": [
        "Notice that the keys in the dictionary became the header names, and the values became the columns."
      ]
    },
    {
      "cell_type": "markdown",
      "metadata": {
        "id": "-zPxS7Y7AtFC",
        "colab_type": "text"
      },
      "source": [
        "###Create custom index\n",
        "The default index of a Pandas **DataFrame** is a range of numbers starting at 0. We can change this to whatever we want. In our case it would make sense to use the name of the team memebers."
      ]
    },
    {
      "cell_type": "code",
      "metadata": {
        "id": "8M8xtcjrH9nj",
        "colab_type": "code",
        "colab": {}
      },
      "source": [
        "hours = pd.DataFrame(project_work_hours, index = ['Jill', 'Jack', 'Yusuf'])\n",
        "hours"
      ],
      "execution_count": 0,
      "outputs": []
    },
    {
      "cell_type": "markdown",
      "metadata": {
        "id": "6SH0xDhsTL4R",
        "colab_type": "text"
      },
      "source": [
        "###Plots\n",
        "one neat trick in Pandas is that you can make matplotlib plots out of the box using [pandas.DataFrame.plot()](https://pandas.pydata.org/pandas-docs/stable/reference/api/pandas.DataFrame.plot.html)\n",
        "\n",
        "\n"
      ]
    },
    {
      "cell_type": "code",
      "metadata": {
        "id": "Yg8jERuhJD4q",
        "colab_type": "code",
        "colab": {}
      },
      "source": [
        "hours.plot( kind= 'bar');"
      ],
      "execution_count": 0,
      "outputs": []
    },
    {
      "cell_type": "markdown",
      "metadata": {
        "id": "qASi3NWINRJm",
        "colab_type": "text"
      },
      "source": [
        "###Pandas and Numpy\n",
        "Pandas is built on Numpy, and gives us access to the same numerical operations. So if we for example want to know the total hours spent on each phase of the project we can find it using the numpy function *sum()*"
      ]
    },
    {
      "cell_type": "code",
      "metadata": {
        "id": "zzISJZGWIaju",
        "colab_type": "code",
        "colab": {}
      },
      "source": [
        "hours.sum()"
      ],
      "execution_count": 0,
      "outputs": []
    },
    {
      "cell_type": "markdown",
      "metadata": {
        "id": "9lpE7qHVDA23",
        "colab_type": "text"
      },
      "source": [
        "##Load CSV files\n",
        "Most of the time we use pandas to work with data from some external source, often a csv file. We can load csv files directly into a Pandas *DataFrame* with the function *read_csv()*. *read_csv()* can read a file from your local file system, or even grab it directly from a url. We will grab a table of popular baby names in New York that we found using https://catalog.data.gov/   "
      ]
    },
    {
      "cell_type": "code",
      "metadata": {
        "id": "sKvdfy88C_h2",
        "colab_type": "code",
        "colab": {}
      },
      "source": [
        "baby_names = pd.read_csv('https://data.cityofnewyork.us/api/views/25th-nujf/rows.csv?accessType=DOWNLOAD')"
      ],
      "execution_count": 0,
      "outputs": []
    },
    {
      "cell_type": "markdown",
      "metadata": {
        "id": "P29tYsyxD7Uh",
        "colab_type": "text"
      },
      "source": [
        "to get an idea of how the data looks like we ca take a peak at the first few rows:"
      ]
    },
    {
      "cell_type": "code",
      "metadata": {
        "id": "6CKPvuJ83ewq",
        "colab_type": "code",
        "colab": {}
      },
      "source": [
        "baby_names.head()"
      ],
      "execution_count": 0,
      "outputs": []
    },
    {
      "cell_type": "markdown",
      "metadata": {
        "id": "o29rxRYwECph",
        "colab_type": "text"
      },
      "source": [
        "... or the last few rows:"
      ]
    },
    {
      "cell_type": "code",
      "metadata": {
        "id": "q6YgiBW2_RR8",
        "colab_type": "code",
        "colab": {}
      },
      "source": [
        "baby_names.tail()"
      ],
      "execution_count": 0,
      "outputs": []
    },
    {
      "cell_type": "markdown",
      "metadata": {
        "id": "YwjouyHxEW1S",
        "colab_type": "text"
      },
      "source": [
        "... or even a number of random rows:"
      ]
    },
    {
      "cell_type": "code",
      "metadata": {
        "id": "AEUEeIfjEcUp",
        "colab_type": "code",
        "colab": {}
      },
      "source": [
        "baby_names.sample(10)"
      ],
      "execution_count": 0,
      "outputs": []
    },
    {
      "cell_type": "markdown",
      "metadata": {
        "id": "kPVAJN8EPxqf",
        "colab_type": "text"
      },
      "source": [
        "We can get some useful information about the dataset with *info()*"
      ]
    },
    {
      "cell_type": "code",
      "metadata": {
        "id": "P9PQpdXGP31a",
        "colab_type": "code",
        "colab": {}
      },
      "source": [
        "baby_names.info()"
      ],
      "execution_count": 0,
      "outputs": []
    },
    {
      "cell_type": "markdown",
      "metadata": {
        "id": "MJgpCZ0bP9tG",
        "colab_type": "text"
      },
      "source": [
        "And we can get some descriptive statistics with *describe()*"
      ]
    },
    {
      "cell_type": "code",
      "metadata": {
        "id": "D9WmlI45Eesv",
        "colab_type": "code",
        "colab": {}
      },
      "source": [
        "baby_names.describe()"
      ],
      "execution_count": 0,
      "outputs": []
    },
    {
      "cell_type": "markdown",
      "metadata": {
        "id": "2bIL_s44RODc",
        "colab_type": "text"
      },
      "source": [
        "###Changing the column names\n",
        "Some of the column names are a little bit hard to work with because they contain quotes and spaces. We can change it, but let us first print out the column names as they are:"
      ]
    },
    {
      "cell_type": "code",
      "metadata": {
        "id": "_wL8kHgTRkyM",
        "colab_type": "code",
        "colab": {}
      },
      "source": [
        "baby_names.columns"
      ],
      "execution_count": 0,
      "outputs": []
    },
    {
      "cell_type": "markdown",
      "metadata": {
        "id": "JMpO_dAZRuLs",
        "colab_type": "text"
      },
      "source": [
        "Now let us change them to make them all lower case, and with no spaces or strange characters:"
      ]
    },
    {
      "cell_type": "code",
      "metadata": {
        "id": "pmPWSevvEl1T",
        "colab_type": "code",
        "colab": {}
      },
      "source": [
        "baby_names.columns = ['birth_year', 'gender', 'ethnicity', 'first_name', 'count', 'rank' ]"
      ],
      "execution_count": 0,
      "outputs": []
    },
    {
      "cell_type": "markdown",
      "metadata": {
        "id": "11RG_BidR4cW",
        "colab_type": "text"
      },
      "source": [
        "If we now take a look at a couple of rows of the DataFrame we see the column names have changed:"
      ]
    },
    {
      "cell_type": "code",
      "metadata": {
        "id": "TQA0v0F_R_fA",
        "colab_type": "code",
        "colab": {}
      },
      "source": [
        "baby_names.head(2)"
      ],
      "execution_count": 0,
      "outputs": []
    },
    {
      "cell_type": "markdown",
      "metadata": {
        "id": "-URNU8qdSEj1",
        "colab_type": "text"
      },
      "source": [
        "we can also change just a few of the column names using the dictionary format:"
      ]
    },
    {
      "cell_type": "code",
      "metadata": {
        "id": "zEHfPRyTSTEh",
        "colab_type": "code",
        "colab": {}
      },
      "source": [
        "baby_names.rename(columns={\n",
        "    'first_name' : 'name',\n",
        "    'birth_year' : 'year'\n",
        "}, inplace=True)"
      ],
      "execution_count": 0,
      "outputs": []
    },
    {
      "cell_type": "markdown",
      "metadata": {
        "id": "z85dgRT9SW7Z",
        "colab_type": "text"
      },
      "source": [
        "`inplace=True` makes sure the changes are applied to the baby_names DataFrame itself in stead of returning a copy. If we do not set `inplace=True` we would have to write: \n",
        "\n",
        "```\n",
        "baby_names = baby_names.rename(columns={\n",
        "    'first_name' : 'name',\n",
        "    'birth_year' : 'year'\n",
        "})\n",
        "```\n",
        "\n"
      ]
    },
    {
      "cell_type": "markdown",
      "metadata": {
        "id": "QoyhuJtHS3IU",
        "colab_type": "text"
      },
      "source": [
        "now let us look at the **DataFrame** again"
      ]
    },
    {
      "cell_type": "code",
      "metadata": {
        "id": "mJe2BMzzS9dk",
        "colab_type": "code",
        "colab": {}
      },
      "source": [
        "baby_names.head()"
      ],
      "execution_count": 0,
      "outputs": []
    },
    {
      "cell_type": "markdown",
      "metadata": {
        "id": "AlPA82TXTl0w",
        "colab_type": "text"
      },
      "source": [
        "##Cleaning data\n",
        "When working with real world data we often have incomplete or poorly formatted datasets. Pandas gives us a lot of tools to clean the data so it is ready for analysis. In this particular dataset there are a lot of duplicate entries. We can remove them using *drop_duplicates()* Before we do that, let us check how many entries we have in total:"
      ]
    },
    {
      "cell_type": "code",
      "metadata": {
        "id": "XsTnZVm8Uaqx",
        "colab_type": "code",
        "colab": {}
      },
      "source": [
        "baby_names.shape"
      ],
      "execution_count": 0,
      "outputs": []
    },
    {
      "cell_type": "markdown",
      "metadata": {
        "id": "wMpQVMEBUdMu",
        "colab_type": "text"
      },
      "source": [
        "Now we will drop the duplicates. we can use inplace=True like before to make sure we are working on the base DataFrame and not a new copy."
      ]
    },
    {
      "cell_type": "code",
      "metadata": {
        "id": "t2_4FSaw3pZh",
        "colab_type": "code",
        "colab": {}
      },
      "source": [
        "baby_names.drop_duplicates(inplace = True)\n",
        "baby_names.shape"
      ],
      "execution_count": 0,
      "outputs": []
    },
    {
      "cell_type": "markdown",
      "metadata": {
        "id": "drjmuXoqUtjp",
        "colab_type": "text"
      },
      "source": [
        "We can see from the shape command that we dropped around 7000 duplicates."
      ]
    },
    {
      "cell_type": "markdown",
      "metadata": {
        "id": "DZ3lQGdYVKuf",
        "colab_type": "text"
      },
      "source": [
        "###Missing values\n",
        "some times datasets are incomplete, with some values not entered. This is a problem in numerical analysis, so we need to eaither remove or change those values. We cab check if our data set contains null values using *isnull()*"
      ]
    },
    {
      "cell_type": "code",
      "metadata": {
        "id": "ok3pHsRo6Fvt",
        "colab_type": "code",
        "colab": {}
      },
      "source": [
        "baby_names.isnull()"
      ],
      "execution_count": 0,
      "outputs": []
    },
    {
      "cell_type": "markdown",
      "metadata": {
        "id": "ZKODI_qRVnV5",
        "colab_type": "text"
      },
      "source": [
        "*isnull()* creates a new **DataFrame** where each value is either TRUE if the original value was missing, or FALSE otherwise. This might not look like very useful information, but if we use it in combination with other functions, like *sum()* it becomes quite powerful: "
      ]
    },
    {
      "cell_type": "code",
      "metadata": {
        "id": "3i9BWxUv6I8b",
        "colab_type": "code",
        "colab": {}
      },
      "source": [
        "baby_names.isnull().sum()"
      ],
      "execution_count": 0,
      "outputs": []
    },
    {
      "cell_type": "markdown",
      "metadata": {
        "id": "sXksz4bsWGuW",
        "colab_type": "text"
      },
      "source": [
        "In our case it seems the dataset does not contain any null values. "
      ]
    },
    {
      "cell_type": "markdown",
      "metadata": {
        "id": "SCiPVXi-UH3s",
        "colab_type": "text"
      },
      "source": [
        "If we did have null values in our data we would in most cases need to either remove them or impute them (change them to a number value). Which strategy we should choose depends on the data we are working with, and what information we are looking for in that data.\n",
        "\n",
        "Let's explore this with a new DataFrame. We will make a DataFrame like the one we had before for the project hours, but in this one we will replace 0 with None. "
      ]
    },
    {
      "cell_type": "code",
      "metadata": {
        "id": "RsPj2z2z_vx4",
        "colab_type": "code",
        "colab": {}
      },
      "source": [
        "work_hours = {\n",
        "    'prototype' : [150, 75, 25],\n",
        "    'design' : [None, 75, 25],\n",
        "    'administration' : [None, None, 75],\n",
        "}\n",
        "\n",
        "hours_missing_values = pd.DataFrame(work_hours, \n",
        "                                    index = ['Jill', 'Jack', 'Yusuf'])\n",
        "hours_missing_values"
      ],
      "execution_count": 0,
      "outputs": []
    },
    {
      "cell_type": "markdown",
      "metadata": {
        "id": "PGuOPBNfXzAc",
        "colab_type": "text"
      },
      "source": [
        "We now see NaN values in our DataFrame. We can confirm this using isnull() like before."
      ]
    },
    {
      "cell_type": "code",
      "metadata": {
        "id": "V0Tu_2etXuVT",
        "colab_type": "code",
        "colab": {}
      },
      "source": [
        "hours_missing_values.isnull().sum()"
      ],
      "execution_count": 0,
      "outputs": []
    },
    {
      "cell_type": "markdown",
      "metadata": {
        "id": "LMbaxk5jYccu",
        "colab_type": "text"
      },
      "source": [
        "###Dropping NaN values\n",
        "One strategy could be to remove all rows with missing values. If you have a big dataset where it is ok if you miss a few rows this might be a good strategy. \n",
        "\n",
        "We can do this with [dropna()](https://pandas.pydata.org/pandas-docs/stable/reference/api/pandas.DataFrame.dropna.html/)"
      ]
    },
    {
      "cell_type": "code",
      "metadata": {
        "id": "JXVUzGpbYBRL",
        "colab_type": "code",
        "colab": {}
      },
      "source": [
        "hours_missing_values.dropna()"
      ],
      "execution_count": 0,
      "outputs": []
    },
    {
      "cell_type": "markdown",
      "metadata": {
        "id": "PNe-hor5ZA7w",
        "colab_type": "text"
      },
      "source": [
        "In our case, if we remove all rows with missing values, we loose all information about the hours that Jack and Jill worked on the project.\n",
        "\n",
        "If all rows in your dataset are important you can drop the columns containing missing values instead, by specifying the axis for [dropna()](https://pandas.pydata.org/pandas-docs/stable/reference/api/pandas.DataFrame.dropna.html/) "
      ]
    },
    {
      "cell_type": "code",
      "metadata": {
        "id": "QbgLiUNrY9tO",
        "colab_type": "code",
        "colab": {}
      },
      "source": [
        "hours_missing_values.dropna(axis=1)"
      ],
      "execution_count": 0,
      "outputs": []
    },
    {
      "cell_type": "markdown",
      "metadata": {
        "id": "IZgqx9qhaM7A",
        "colab_type": "text"
      },
      "source": [
        "Now we have hours for every team member, but we lost a lot of information about hours spent on design and administration. \n",
        "\n",
        "###Imputing\n",
        "We happen to know that the values are missing only for the cases where there were no hours worked. So the ideal way to fix this dataset would be to change all NaN values to 0. we can use [fillna()](https://pandas.pydata.org/pandas-docs/stable/reference/api/pandas.DataFrame.fillna.html) to do that"
      ]
    },
    {
      "cell_type": "code",
      "metadata": {
        "id": "G9146rklaKzy",
        "colab_type": "code",
        "colab": {}
      },
      "source": [
        "hours_missing_values.fillna(0)"
      ],
      "execution_count": 0,
      "outputs": []
    },
    {
      "cell_type": "markdown",
      "metadata": {
        "id": "j4j2q3dMbMy0",
        "colab_type": "text"
      },
      "source": [
        "##inplace\n",
        "By default most of the DataFrame functions return a copy of the DataFrame with the result of the function, and it leaves the original untouched. If you want to change the original directly you can specify  *inplace = True*"
      ]
    },
    {
      "cell_type": "code",
      "metadata": {
        "id": "Ngg72DXJbB26",
        "colab_type": "code",
        "colab": {}
      },
      "source": [
        "hours_missing_values.fillna(0, inplace=True)\n",
        "hours_missing_values"
      ],
      "execution_count": 0,
      "outputs": []
    },
    {
      "cell_type": "markdown",
      "metadata": {
        "id": "nZHFy8OVeBZ3",
        "colab_type": "text"
      },
      "source": [
        "This concludes our brief intro to Pandas. As with all libraries we encourage you to play with it and explore the [documentation](https://pandas.pydata.org/pandas-docs/stable/)."
      ]
    }
  ]
}