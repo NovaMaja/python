{
  "nbformat": 4,
  "nbformat_minor": 0,
  "metadata": {
    "colab": {
      "name": "Python_intro1.ipynb",
      "version": "0.3.2",
      "provenance": [],
      "collapsed_sections": [],
      "include_colab_link": true
    },
    "kernelspec": {
      "name": "python3",
      "display_name": "Python 3"
    }
  },
  "cells": [
    {
      "cell_type": "markdown",
      "metadata": {
        "id": "view-in-github",
        "colab_type": "text"
      },
      "source": [
        "<a href=\"https://colab.research.google.com/github/NovaMaja/python/blob/master/Python_intro1.ipynb\" target=\"_parent\"><img src=\"https://colab.research.google.com/assets/colab-badge.svg\" alt=\"Open In Colab\"/></a>"
      ]
    },
    {
      "metadata": {
        "id": "NH8ZqtvbIe2k",
        "colab_type": "text"
      },
      "cell_type": "markdown",
      "source": [
        "# Introduction to Python\n",
        "This notebook gives an introduction to python programming. It is designed for students of the course Python for Data Science at Nova Institute, and presents the material we go through in session one of the course. The material is designed for beginners and requires no previous programming knowledge to follow.\n",
        "\n",
        "*This notebook and example materials is developed by  [Nova Institute](https://novainstitute.ca) and is released under the [MIT license](https://https://github.com/NovaMaja/webscraping/blob/master/LICENSE). *"
      ]
    },
    {
      "metadata": {
        "id": "hSh41iayLV5z",
        "colab_type": "text"
      },
      "cell_type": "markdown",
      "source": [
        "##About Jupyter Notebooks\n",
        "This document is called a Jupyter Notebook. It is a document where you can add blocks of formatted text (such as this one), AND blocks of runnable code. \n",
        "\n",
        "To edit a block of text or code you can double click on it to enter edit mode. To execute a block of code press the play button on the left side of the block or press shift-enter when in edit mode of the block. If the code in one block depends on code in another block make sure to run the other block first.\n",
        "\n"
      ]
    },
    {
      "metadata": {
        "id": "8fZju762M0_0",
        "colab_type": "text"
      },
      "cell_type": "markdown",
      "source": [
        "##Hello World\n",
        "since the beginning of programming the first frase to write in any programming language is \"Hello World\". We will follow this great tradition and open with a statment that prints \"Hello World!\" to the output. Try to run this code:"
      ]
    },
    {
      "metadata": {
        "id": "EoXo7iOeLTxF",
        "colab_type": "code",
        "colab": {}
      },
      "cell_type": "code",
      "source": [
        "print('Hello World!')"
      ],
      "execution_count": 0,
      "outputs": []
    },
    {
      "metadata": {
        "id": "lFN7RJmkNZXo",
        "colab_type": "text"
      },
      "cell_type": "markdown",
      "source": [
        "As you can see python is very close to English. when we call the function\n",
        "\n",
        "```\n",
        "print()\n",
        "```\n",
        "\n",
        "we are telling the computer to print whatever is inside the brackets.\n",
        "\n",
        "Now try to make the program print your name to the output by filling in the code in the code block below:"
      ]
    },
    {
      "metadata": {
        "id": "QaAZoKILNWQv",
        "colab_type": "code",
        "colab": {}
      },
      "cell_type": "code",
      "source": [
        ""
      ],
      "execution_count": 0,
      "outputs": []
    },
    {
      "metadata": {
        "id": "IzdssCISOKvm",
        "colab_type": "text"
      },
      "cell_type": "markdown",
      "source": [
        "##Variables\n",
        "A variable is a bit like a file that you store something in. The difference is that variables are stored in working memory, while files are stored on disk. In other words variables are for information you need right away in your program. \n",
        "\n",
        "Variables in python are similar to variables in algebra. \n",
        "\n",
        "Consider the following code:"
      ]
    },
    {
      "metadata": {
        "id": "8Vs4yKpaPspI",
        "colab_type": "code",
        "colab": {}
      },
      "cell_type": "code",
      "source": [
        "x = 1\n",
        "print(1 + x)"
      ],
      "execution_count": 0,
      "outputs": []
    },
    {
      "metadata": {
        "id": "QXRtbfkfP75u",
        "colab_type": "text"
      },
      "cell_type": "markdown",
      "source": [
        "We can name a variable anything we want. It is a good idea to give varaibles names that make sense in your code. This makes your code more readable for others ...and even yourself."
      ]
    },
    {
      "metadata": {
        "id": "Y2aIznlSP7EK",
        "colab_type": "code",
        "colab": {}
      },
      "cell_type": "code",
      "source": [
        "name = 'Mohamed'\n",
        "print('Hello ' + name)"
      ],
      "execution_count": 0,
      "outputs": []
    },
    {
      "metadata": {
        "id": "6PA45b6aV5dy",
        "colab_type": "text"
      },
      "cell_type": "markdown",
      "source": [
        "notice that when we want to print a text directly we enclose it in single quotes. When we reference a variable (in this case the variable **name**) we do not use quotes. To illustrate the difference, try to run the next code block and compare the output to the previous one."
      ]
    },
    {
      "metadata": {
        "id": "_9zk1FpNWl0u",
        "colab_type": "code",
        "colab": {}
      },
      "cell_type": "code",
      "source": [
        "name = 'Mohamed'\n",
        "print('Hello ' + 'name')"
      ],
      "execution_count": 0,
      "outputs": []
    },
    {
      "metadata": {
        "id": "n_G9hzxSW2mC",
        "colab_type": "text"
      },
      "cell_type": "markdown",
      "source": [
        "another good thing to notice is that you can connect texts together using the plus sign."
      ]
    },
    {
      "metadata": {
        "id": "SZvcB12zXH1H",
        "colab_type": "text"
      },
      "cell_type": "markdown",
      "source": [
        "###Data Types\n",
        "variables in python are *dynamically typed*. This is important to know if you have previous experience with another programming language like C or Java. \n",
        "\n",
        "variables have different types some of these are \n",
        "\n",
        "```\n",
        "int    - a non-decimal number: 1,2,3 etc\n",
        "float  - a decimal number: 1.002, 2.32455 etc\n",
        "string - a text: \"Hello world\"\n",
        "```\n",
        "\n",
        "Because Python is dynamically typed you often do not have to worry about which type your variable is. It can even switch types during the execution of your program! \n",
        "You can not do that in languages like Java or C.\n",
        "\n",
        "\n"
      ]
    },
    {
      "metadata": {
        "id": "vk8Mfn1eWzUR",
        "colab_type": "code",
        "colab": {}
      },
      "cell_type": "code",
      "source": [
        "a = 1\n",
        "b = 2\n",
        "print(a + b)\n",
        "\n",
        "a = \"one\"\n",
        "print(a)"
      ],
      "execution_count": 0,
      "outputs": []
    },
    {
      "metadata": {
        "id": "4GbCZrtYaRng",
        "colab_type": "text"
      },
      "cell_type": "markdown",
      "source": [
        "But some times it is important to know what type a variable is. Try running the next code block"
      ]
    },
    {
      "metadata": {
        "id": "NmwQxvlkZbS0",
        "colab_type": "code",
        "colab": {}
      },
      "cell_type": "code",
      "source": [
        "number = 1\n",
        "text = \"two\"\n",
        "print (number + text)"
      ],
      "execution_count": 0,
      "outputs": []
    },
    {
      "metadata": {
        "id": "Wbd-3HalaonS",
        "colab_type": "text"
      },
      "cell_type": "markdown",
      "source": [
        "because the two variables have different types the print function gets confused and provides an error message.\n",
        "\n",
        "You can check the type of a variable like this:\n"
      ]
    },
    {
      "metadata": {
        "id": "iNFxkSffal7w",
        "colab_type": "code",
        "colab": {}
      },
      "cell_type": "code",
      "source": [
        "answer = 42\n",
        "type(answer)"
      ],
      "execution_count": 0,
      "outputs": []
    },
    {
      "metadata": {
        "id": "mg1gukI9beF4",
        "colab_type": "text"
      },
      "cell_type": "markdown",
      "source": [
        "Here we see that the variable **answer** has type **int**. Try to replace 42 with some text, for example 'fourty two' and run the previous code block again. "
      ]
    },
    {
      "metadata": {
        "id": "eu65vC78Gn1h",
        "colab_type": "text"
      },
      "cell_type": "markdown",
      "source": [
        "Python is dynamically typed. You do not have to define the type of the variable like you would in for example Java or C. And you can even *change* the type during runtime."
      ]
    },
    {
      "metadata": {
        "id": "6f5CzzEoGtCz",
        "colab_type": "code",
        "colab": {}
      },
      "cell_type": "code",
      "source": [
        "number = 1\n",
        "print(type(number))\n",
        "number = \"one\"\n",
        "print(type(number))"
      ],
      "execution_count": 0,
      "outputs": []
    },
    {
      "metadata": {
        "id": "PigxHjY9c5Ko",
        "colab_type": "text"
      },
      "cell_type": "markdown",
      "source": [
        "###format()\n",
        "A lot of times we want to print texts with the value of an int or float variable in the same line, but print does not like us to mix int and str types with the + sign, so how can we get around that?\n",
        "\n",
        "One way to do this is to use the format() function. It works like this:"
      ]
    },
    {
      "metadata": {
        "id": "7TN_9IZgdkau",
        "colab_type": "code",
        "colab": {}
      },
      "cell_type": "code",
      "source": [
        "value = 2\n",
        "print('the value is {}'.format(value))"
      ],
      "execution_count": 0,
      "outputs": []
    },
    {
      "metadata": {
        "id": "NBHFgll_dzLA",
        "colab_type": "text"
      },
      "cell_type": "markdown",
      "source": [
        "you can use it with as many variables as you want, and they can be different types:"
      ]
    },
    {
      "metadata": {
        "id": "aEFnAQzSeA0l",
        "colab_type": "code",
        "colab": {}
      },
      "cell_type": "code",
      "source": [
        "int_value = 2\n",
        "float_value = 2.9\n",
        "text = 'hello world'\n",
        "print('WE now have an int of value: {}, a float of value: {},' \n",
        "      ' and a str of value: {}'.format(int_value, float_value, text))"
      ],
      "execution_count": 0,
      "outputs": []
    },
    {
      "metadata": {
        "id": "BMJzCjfXcKte",
        "colab_type": "text"
      },
      "cell_type": "markdown",
      "source": [
        "##Input()\n",
        "In most programs we want some sort of interaction with the user. The simplest way to do that in pyhton is using the input() function. It works like this:"
      ]
    },
    {
      "metadata": {
        "id": "pN4FxRl4cCkE",
        "colab_type": "code",
        "colab": {}
      },
      "cell_type": "code",
      "source": [
        "name = input('What is your name?')\n",
        "print('Hello ' + name)"
      ],
      "execution_count": 0,
      "outputs": []
    },
    {
      "metadata": {
        "id": "WLkkrooyXZcA",
        "colab_type": "text"
      },
      "cell_type": "markdown",
      "source": [
        "##= vs ==\n",
        "in python there are two types of equal signs:\n",
        "\n",
        "\n",
        "*   =     means \"set to\"\n",
        "*   ==   is the equal sign you know from math\n",
        "\n"
      ]
    },
    {
      "metadata": {
        "id": "Ym380FekfNpQ",
        "colab_type": "code",
        "colab": {}
      },
      "cell_type": "code",
      "source": [
        "a = 1\n",
        "print(a)"
      ],
      "execution_count": 0,
      "outputs": []
    },
    {
      "metadata": {
        "id": "TsG6xLL3fpU1",
        "colab_type": "code",
        "colab": {}
      },
      "cell_type": "code",
      "source": [
        "print(a == 1)"
      ],
      "execution_count": 0,
      "outputs": []
    },
    {
      "metadata": {
        "id": "f8QuyLnzfzQy",
        "colab_type": "text"
      },
      "cell_type": "markdown",
      "source": [
        "##if elif else\n",
        "Some times we only want to execute some code if a certain condition is met. This is what **if statements** are for.\n",
        "\n",
        "Try to see if you understand what is going on in the next code block:"
      ]
    },
    {
      "metadata": {
        "id": "Oc0P1_SbhQHr",
        "colab_type": "code",
        "colab": {}
      },
      "cell_type": "code",
      "source": [
        "answer = input('what is your favorite fruit?')\n",
        "\n",
        "if answer == 'apple':\n",
        "  print('I love Apples to!')\n",
        "elif answer == 'orange':\n",
        "  print('oranges are awesome!')\n",
        "else:\n",
        "  print('{} is the best'.format(answer))"
      ],
      "execution_count": 0,
      "outputs": []
    },
    {
      "metadata": {
        "id": "YAE5gI1Wl4t9",
        "colab_type": "text"
      },
      "cell_type": "markdown",
      "source": [
        "##Indents\n",
        "![alt text](https://i.imgflip.com/1gauy4.jpg)\n",
        "\n",
        "Notice that some of the code in the above block is indented? This is python's way of knowing what code belongs inside the statement and what doesn't. There are no curly brackets or similar in python so if you do not indent your code will have a different meaning than you expect it to. "
      ]
    },
    {
      "metadata": {
        "id": "J_bkwgqCnvws",
        "colab_type": "text"
      },
      "cell_type": "markdown",
      "source": [
        "##Functions\n",
        "functions are blocks of code that you want to use over and over again. \n",
        "\n",
        "A function is defined like this:"
      ]
    },
    {
      "metadata": {
        "id": "s-j4QomVqz0x",
        "colab_type": "code",
        "colab": {}
      },
      "cell_type": "code",
      "source": [
        "def hello(name):\n",
        "  print('Hello ' + name)"
      ],
      "execution_count": 0,
      "outputs": []
    },
    {
      "metadata": {
        "id": "esJqtMBUrAuG",
        "colab_type": "text"
      },
      "cell_type": "markdown",
      "source": [
        "Running the previous code block should not give any output because we have only defined the function, we did not tell the program to use the function yet. When we want the code in the function to run we do:"
      ]
    },
    {
      "metadata": {
        "id": "5cQ59DD0rb3r",
        "colab_type": "code",
        "colab": {}
      },
      "cell_type": "code",
      "source": [
        "hello('Maja')\n",
        "hello('Nova Institute')\n",
        "hello('Everybody')"
      ],
      "execution_count": 0,
      "outputs": []
    },
    {
      "metadata": {
        "id": "ROZgBn3_r2dO",
        "colab_type": "text"
      },
      "cell_type": "markdown",
      "source": [
        "You can now run the code in the function as many times as you want with different input every time. \n",
        "\n",
        "We have used functions before: print() and input() are both built in functions in Python. And now you know how to define your own functions as well."
      ]
    },
    {
      "metadata": {
        "id": "kmdHsYlhsWo1",
        "colab_type": "text"
      },
      "cell_type": "markdown",
      "source": [
        "##Lists\n",
        "A list in Python is an ordered, changable collection. It can contain objects of elements of types, even other lists\n",
        "\n",
        "\n"
      ]
    },
    {
      "metadata": {
        "id": "o31wi3RcG_o2",
        "colab_type": "code",
        "colab": {
          "base_uri": "https://localhost:8080/",
          "height": 34
        },
        "outputId": "d516da64-8f4b-44c9-c379-790b71a9b770"
      },
      "cell_type": "code",
      "source": [
        "items = ['apple', 'pear', 1, 5.0, ['one', 'two', 'three']]\n",
        "print(items)"
      ],
      "execution_count": 5,
      "outputs": [
        {
          "output_type": "stream",
          "text": [
            "['apple', 'pear', 1, 5.0, ['one', 'two', 'three']]\n"
          ],
          "name": "stdout"
        }
      ]
    },
    {
      "metadata": {
        "id": "i7TZ6y_vHQF2",
        "colab_type": "text"
      },
      "cell_type": "markdown",
      "source": [
        "you can add an element to the list with the append() function"
      ]
    },
    {
      "metadata": {
        "id": "ghueP5XlHOpk",
        "colab_type": "code",
        "colab": {
          "base_uri": "https://localhost:8080/",
          "height": 34
        },
        "outputId": "be2d830e-4de2-4a95-b597-4777febcabdc"
      },
      "cell_type": "code",
      "source": [
        "items.append('orange')\n",
        "print(items)"
      ],
      "execution_count": 3,
      "outputs": [
        {
          "output_type": "stream",
          "text": [
            "['apple', 'pear', 1, 5.0, ['one', 'two', 'three'], 'orange']\n"
          ],
          "name": "stdout"
        }
      ]
    },
    {
      "metadata": {
        "id": "jRuw28GiHd0L",
        "colab_type": "text"
      },
      "cell_type": "markdown",
      "source": [
        "You can access an element using number indexing, start counting from 0.\n",
        "in our list item at index number 3 is the number 5.0, we want to change it to the text 'banana':"
      ]
    },
    {
      "metadata": {
        "id": "YITAUcq0H2W8",
        "colab_type": "code",
        "colab": {
          "base_uri": "https://localhost:8080/",
          "height": 34
        },
        "outputId": "c68285d3-dd48-460a-f624-bda39396f5d2"
      },
      "cell_type": "code",
      "source": [
        "items[3] = 'banana'\n",
        "print(items)"
      ],
      "execution_count": 6,
      "outputs": [
        {
          "output_type": "stream",
          "text": [
            "['apple', 'pear', 1, 'banana', ['one', 'two', 'three']]\n"
          ],
          "name": "stdout"
        }
      ]
    },
    {
      "metadata": {
        "id": "77s6gCzJFrdM",
        "colab_type": "text"
      },
      "cell_type": "markdown",
      "source": [
        "##Loops\n",
        "Loops are used to run a piece of code over and over until a condition is met. We have two kinds of loops in Python: \n",
        "\n",
        "*   for loop\n",
        "*   while loop\n",
        "\n",
        "###for loops\n",
        "for loops are often used to iterate through items in a list, like this:"
      ]
    },
    {
      "metadata": {
        "id": "03IJAcBHJOTp",
        "colab_type": "code",
        "colab": {
          "base_uri": "https://localhost:8080/",
          "height": 102
        },
        "outputId": "57d8bbc5-bb60-49b9-d92f-229482d16fcb"
      },
      "cell_type": "code",
      "source": [
        "for item in items:\n",
        "  print(item)"
      ],
      "execution_count": 7,
      "outputs": [
        {
          "output_type": "stream",
          "text": [
            "apple\n",
            "pear\n",
            "1\n",
            "banana\n",
            "['one', 'two', 'three']\n"
          ],
          "name": "stdout"
        }
      ]
    },
    {
      "metadata": {
        "id": "4CBxiOlDJZGH",
        "colab_type": "text"
      },
      "cell_type": "markdown",
      "source": [
        "We can use this on our list if we for example want to find the elements in the list that are not texts (str data type):"
      ]
    },
    {
      "metadata": {
        "id": "23060NoLJFsp",
        "colab_type": "code",
        "colab": {
          "base_uri": "https://localhost:8080/",
          "height": 51
        },
        "outputId": "d3c7444c-3ea7-47ab-b388-a436455f320c"
      },
      "cell_type": "code",
      "source": [
        "for item in items:\n",
        "  if type(item) is not str:\n",
        "    print('{} is not a string'.format(item))"
      ],
      "execution_count": 8,
      "outputs": [
        {
          "output_type": "stream",
          "text": [
            "1 is not a string\n",
            "['one', 'two', 'three'] is not a string\n"
          ],
          "name": "stdout"
        }
      ]
    },
    {
      "metadata": {
        "id": "ug7-8l3mJphH",
        "colab_type": "text"
      },
      "cell_type": "markdown",
      "source": [
        "Some times it is useful toknow the index of the item as well, we can get that by using enumerate() in the for loop:"
      ]
    },
    {
      "metadata": {
        "id": "oJ3P2hR-Jytk",
        "colab_type": "code",
        "colab": {
          "base_uri": "https://localhost:8080/",
          "height": 119
        },
        "outputId": "fba3590b-b875-4f4b-d3fd-cc8bedb88d89"
      },
      "cell_type": "code",
      "source": [
        "for index, item in enumerate(fruits):\n",
        "  print('index: {}, fruit: {}'.format(index, item))"
      ],
      "execution_count": 9,
      "outputs": [
        {
          "output_type": "stream",
          "text": [
            "index: 0, fruit: apple\n",
            "index: 1, fruit: pear\n",
            "index: 2, fruit: 1\n",
            "index: 3, fruit: 5.0\n",
            "index: 4, fruit: ['one', 'two', 'three']\n",
            "index: 5, fruit: orange\n"
          ],
          "name": "stdout"
        }
      ]
    },
    {
      "metadata": {
        "id": "j0kbxnAKLicA",
        "colab_type": "text"
      },
      "cell_type": "markdown",
      "source": [
        "This concludes lesson one, in the next lessons we will look at classes, imports, and working with libraries that make us able to do amazing things with just a few lines of code."
      ]
    }
  ]
}