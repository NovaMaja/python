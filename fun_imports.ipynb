{
  "nbformat": 4,
  "nbformat_minor": 0,
  "metadata": {
    "colab": {
      "name": "fun_imports.ipynb",
      "version": "0.3.2",
      "provenance": [],
      "include_colab_link": true
    },
    "kernelspec": {
      "name": "python3",
      "display_name": "Python 3"
    }
  },
  "cells": [
    {
      "cell_type": "markdown",
      "metadata": {
        "id": "view-in-github",
        "colab_type": "text"
      },
      "source": [
        "<a href=\"https://colab.research.google.com/github/NovaMaja/python/blob/master/fun_imports.ipynb\" target=\"_parent\"><img src=\"https://colab.research.google.com/assets/colab-badge.svg\" alt=\"Open In Colab\"/></a>"
      ]
    },
    {
      "metadata": {
        "id": "z7AmQCFJg3XZ",
        "colab_type": "text"
      },
      "cell_type": "markdown",
      "source": [
        "#Fun with Python Imports\n",
        "This notebook is designed for students of the course Python for Data Science at Nova Institute, and presents the material we go through in a part of the course. The material is designed for beginners and requires little prior programming knowledge to follow. \n",
        "\n",
        "*This notebook and example materials is developed by  [Nova Institute](https://novainstitute.ca) and is released under the [MIT license](https://https://github.com/NovaMaja/webscraping/blob/master/LICENSE). *\n",
        "\n",
        "##import\n",
        "the import statement lets us import other python files into our program. It can be a file that we wrote ourselves, or it can be a file someone else wrote. In most cases we import external libraries (python files someone else wrote) to get access to functions that handle anything from building neural networks to plotting images and graphs or develop games. The great thing about imports is that you do not have to re-invent the wheel. If someone else wrote code that you want to use, and they made it available you can easily import it into your program.\n",
        "\n",
        "##And now for something completely different..\n",
        "Have you ever wondered where the name Python comes from? No, it is not from a snake. It is from the British comedian group [Monthy Python](https://www.youtube.com/watch?v=C-M2hs3sXGo&list=PLutTviYZk9KhOPSfWfBMU4-VNRCs6S4Jr). If you study source code and documentation of Python you will find quite a few references to Monty Python and other sillyness, in fact it is encouraged. Some examples are found when importing certain built in libraries (= python files someone else wrote that was included with Python when it was installed on your computer) in Python.\n",
        "\n",
        "###this\n",
        "importing this gives you a poem that beautifully encapsules the philosophy of Python. It is a good read for best practices in writing code. "
      ]
    },
    {
      "metadata": {
        "id": "2sBEqkpa18VA",
        "colab_type": "code",
        "colab": {}
      },
      "cell_type": "code",
      "source": [
        "import this"
      ],
      "execution_count": 0,
      "outputs": []
    },
    {
      "metadata": {
        "id": "7WSERVX4mMUv",
        "colab_type": "text"
      },
      "cell_type": "markdown",
      "source": [
        "Interestingly the source code in this.py violates every single rule stated in the zen of python. For example the text itself is stored in a variable called s, but as you can see if you print it, it is encrypted."
      ]
    },
    {
      "metadata": {
        "id": "BCusBJ2V2Fhq",
        "colab_type": "code",
        "colab": {}
      },
      "cell_type": "code",
      "source": [
        "print(this.s)"
      ],
      "execution_count": 0,
      "outputs": []
    },
    {
      "metadata": {
        "id": "Gkhh_szvmwEw",
        "colab_type": "text"
      },
      "cell_type": "markdown",
      "source": [
        "You can read the source code for this.py in the [python repository](https://github.com/python/cpython/blob/master/Lib/this.py)"
      ]
    },
    {
      "metadata": {
        "id": "7Y5lVR4Om30H",
        "colab_type": "text"
      },
      "cell_type": "markdown",
      "source": [
        "###braces in the future??\n",
        "\n",
        "`__future__`  is a module  that lets you try out future features of Python before they are released. \n",
        "\n",
        "Remember how there are no curly braces in Python? It is due to the Python philosophy of not using more characters than necessary and imposing the increased readability offered by indenting your code. If you try to import braces from the `__future__` module you will get an interesting error message.\n",
        "\n",
        "\n"
      ]
    },
    {
      "metadata": {
        "id": "sFSh8YXH3JSu",
        "colab_type": "code",
        "colab": {}
      },
      "cell_type": "code",
      "source": [
        "from __future__ import braces"
      ],
      "execution_count": 0,
      "outputs": []
    },
    {
      "metadata": {
        "id": "ux6kc-G_o_v7",
        "colab_type": "text"
      },
      "cell_type": "markdown",
      "source": [
        "###antigravity\n",
        "this last eample does not work if you are running this notebook on Google colab, so to try it out use a computer with Python installed and open your Python interpereter (in most systems that means write Python in the promt of your terminal/shell). You knwo you are in the interpreter when you see three angle braces like this:\n",
        "\n",
        "```\n",
        ">>>\n",
        "\n",
        "```\n",
        "The interpereter lets you code 'live', meaning that you can type a line of python code and press enter, and it will be executed right away.\n",
        "\n",
        "Now try to type:\n",
        "\n",
        "```\n",
        ">>> import antigravity\n",
        "```\n",
        "\n",
        "\n",
        "\n"
      ]
    },
    {
      "metadata": {
        "id": "wbH0w5lGs4hh",
        "colab_type": "text"
      },
      "cell_type": "markdown",
      "source": [
        "##NumPy\n",
        "Of course imports are used for more than jokes. One of the most useful libraries you can import is NumPy. It comes pre-installed in google colab, for other systems you need to [install it](https://www.scipy.org/scipylib/download.html) first. We will come back to numpy for a deep dive later in the course, but for now we will just take a look at some simple things we can do with it. \n",
        "\n",
        "###Multidimensional array\n",
        "The core of numpy is an efficient multidimensional array and functions to manipulate that array using linear algebra. This makes it the backbone of many other libraries for anything from image filtering to machine learning. \n",
        "\n"
      ]
    },
    {
      "metadata": {
        "id": "iA0jNM4LvEUC",
        "colab_type": "text"
      },
      "cell_type": "markdown",
      "source": [
        "There are many convenience functions in NumPy, and we will take a peak at a couple of them right now.\n",
        "\n",
        "First we need to import numpy, usually we import it with the alias np so that we do not have to write numpy all the time:"
      ]
    },
    {
      "metadata": {
        "id": "HhjQn7oW3Tz5",
        "colab_type": "code",
        "colab": {}
      },
      "cell_type": "code",
      "source": [
        "import numpy as np "
      ],
      "execution_count": 0,
      "outputs": []
    },
    {
      "metadata": {
        "id": "TMsmweorvIPn",
        "colab_type": "text"
      },
      "cell_type": "markdown",
      "source": [
        "in numpy we can make an array and fill it with a range of numbers like this:"
      ]
    },
    {
      "metadata": {
        "id": "I1RCbOqd4WAR",
        "colab_type": "code",
        "colab": {}
      },
      "cell_type": "code",
      "source": [
        "numbers = np.arange(15)\n",
        "numbers"
      ],
      "execution_count": 0,
      "outputs": []
    },
    {
      "metadata": {
        "id": "klVI_9WqvSFa",
        "colab_type": "text"
      },
      "cell_type": "markdown",
      "source": [
        "This may look a lot like a regular python list, but if we check the type of the array you will see it is a numpy array (also called ndarray)."
      ]
    },
    {
      "metadata": {
        "id": "XLrY5Wko4fL-",
        "colab_type": "code",
        "colab": {}
      },
      "cell_type": "code",
      "source": [
        "type(numbers)"
      ],
      "execution_count": 0,
      "outputs": []
    },
    {
      "metadata": {
        "id": "sJ3NQZkPvgN2",
        "colab_type": "text"
      },
      "cell_type": "markdown",
      "source": [
        "now if we want to reshape this one dimensional array into a two dimensional array (aka matrix) we can use reshape:"
      ]
    },
    {
      "metadata": {
        "id": "yNLu3Ij84lbl",
        "colab_type": "code",
        "colab": {}
      },
      "cell_type": "code",
      "source": [
        "number_mat = numbers.reshape(3,5)\n",
        "number_mat"
      ],
      "execution_count": 0,
      "outputs": []
    },
    {
      "metadata": {
        "id": "tz1mqLuNv07Z",
        "colab_type": "text"
      },
      "cell_type": "markdown",
      "source": [
        "We will explore NumPy in more detail later in the course, but for now just explore what you learned so far, play with it and have fun =)"
      ]
    }
  ]
}