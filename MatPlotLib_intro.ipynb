{
  "nbformat": 4,
  "nbformat_minor": 0,
  "metadata": {
    "colab": {
      "name": "MatPlotLib_intro.ipynb",
      "version": "0.3.2",
      "provenance": [],
      "include_colab_link": true
    },
    "kernelspec": {
      "name": "python3",
      "display_name": "Python 3"
    }
  },
  "cells": [
    {
      "cell_type": "markdown",
      "metadata": {
        "id": "view-in-github",
        "colab_type": "text"
      },
      "source": [
        "<a href=\"https://colab.research.google.com/github/NovaMaja/python/blob/master/MatPlotLib_intro.ipynb\" target=\"_parent\"><img src=\"https://colab.research.google.com/assets/colab-badge.svg\" alt=\"Open In Colab\"/></a>"
      ]
    },
    {
      "cell_type": "markdown",
      "metadata": {
        "id": "qcSS3oiOdG3t",
        "colab_type": "text"
      },
      "source": [
        "#MatPlotLib\n",
        "This notebook gives a introduction to MatPlotLib. It is designed for students of the course Python for Data Science at Nova Institute. The material is designed for beginners, but it asumes the reader has some knowledge of Python programming and the NumPy library.\n",
        "\n",
        "MatPlotLib is a very useful library for creating different kinds of graphs, plots and even display images.\n",
        "\n",
        "\n",
        "*This notebook and example materials is developed by  [Nova Institute](https://novainstitute.ca) and is released under the [MIT license](https://github.com/NovaMaja/python/blob/master/LICENSE). *\n",
        "\n",
        "\n",
        "\n"
      ]
    },
    {
      "cell_type": "markdown",
      "metadata": {
        "id": "bkVQ080ndogj",
        "colab_type": "text"
      },
      "source": [
        "##Import MatPlotLib\n",
        "When we import matplotlib we also usually need Numpy. The module of matplotlib that we will be using is called pyplot. It is common practice to import pyplot with the alias *plt*."
      ]
    },
    {
      "cell_type": "code",
      "metadata": {
        "id": "JIJcxzqico_-",
        "colab_type": "code",
        "colab": {}
      },
      "source": [
        "import numpy as np\n",
        "import matplotlib.pyplot as plt"
      ],
      "execution_count": 0,
      "outputs": []
    },
    {
      "cell_type": "markdown",
      "metadata": {
        "id": "3fSiuLToeHyY",
        "colab_type": "text"
      },
      "source": [
        "Let us first make a simple linear plot:"
      ]
    },
    {
      "cell_type": "code",
      "metadata": {
        "id": "gRd9XvF1eP33",
        "colab_type": "code",
        "colab": {
          "base_uri": "https://localhost:8080/",
          "height": 269
        },
        "outputId": "145bd04f-6347-4a4f-ae12-6919685948d7"
      },
      "source": [
        "my_line = np.arange(30)\n",
        "plt.plot(my_line)\n",
        "plt.show()"
      ],
      "execution_count": 15,
      "outputs": [
        {
          "output_type": "display_data",
          "data": {
            "image/png": "[encoded data removed]",
            "text/plain": [
              "<Figure size 432x288 with 1 Axes>"
            ]
          },
          "metadata": {
            "tags": []
          }
        }
      ]
    },
    {
      "cell_type": "markdown",
      "metadata": {
        "id": "RFgMMveees7O",
        "colab_type": "text"
      },
      "source": [
        "Next we will make a sine function and plot it. Notice we can also set the text on each axis as we want."
      ]
    },
    {
      "cell_type": "code",
      "metadata": {
        "id": "alTDAgqpcyMm",
        "colab_type": "code",
        "colab": {
          "base_uri": "https://localhost:8080/",
          "height": 283
        },
        "outputId": "8fed8a57-1a0d-4253-d615-93f070f45889"
      },
      "source": [
        "x = np.linspace(-np.pi, np.pi, 50)\n",
        "plt.plot(x, np.sin(x))\n",
        "plt.xlabel('Angle [rad]')\n",
        "plt.ylabel('sin(x)')\n",
        "plt.show()"
      ],
      "execution_count": 16,
      "outputs": [
        {
          "output_type": "display_data",
          "data": {
            "image/png": "[encoded data removed]",
            "text/plain": [
              "<Figure size 432x288 with 1 Axes>"
            ]
          },
          "metadata": {
            "tags": []
          }
        }
      ]
    },
    {
      "cell_type": "markdown",
      "metadata": {
        "id": "2gNShZMrfpzU",
        "colab_type": "text"
      },
      "source": [
        "We can also use matplotlib to plot numpy arrays as images. "
      ]
    },
    {
      "cell_type": "code",
      "metadata": {
        "id": "pdR0-JyGfxSw",
        "colab_type": "code",
        "colab": {
          "base_uri": "https://localhost:8080/",
          "height": 269
        },
        "outputId": "9637a3e1-6d49-4739-e793-928bcaa42cd3"
      },
      "source": [
        "mystery_image = np.array([[0, 0, 0, 0, 0, 0, 0, 0, 0,0 ],\n",
        "                        [0, 0, 0, 0, 255, 255, 0, 0, 0,0 ],\n",
        "                        [0, 0, 0, 100, 60, 60, 100, 0, 0,0 ],\n",
        "                        [0, 0, 100, 120, 50, 20, 20, 100, 0,0 ],\n",
        "                        [0, 0, 255, 20, 200, 54, 23, 255, 0,0 ],\n",
        "                        [0, 0, 255, 5, 89, 110, 150, 255, 0,0 ],\n",
        "                        [0, 0, 0, 100, 40, 60, 90, 100, 0,0 ],\n",
        "                        [0, 0, 0, 0, 100, 22, 43, 100, 0,0 ],\n",
        "                        [0, 0, 0, 0, 0, 255, 255, 0, 0,0 ],\n",
        "                        [0, 0, 0, 0, 0, 0, 0, 0, 0,0 ]])\n",
        "plt.imshow(mystery_image)\n",
        "plt.colorbar()\n",
        "plt.show()"
      ],
      "execution_count": 19,
      "outputs": [
        {
          "output_type": "display_data",
          "data": {
            "image/png": "[encoded data removed]",
            "text/plain": [
              "<Figure size 432x288 with 2 Axes>"
            ]
          },
          "metadata": {
            "tags": []
          }
        }
      ]
    },
    {
      "cell_type": "markdown",
      "metadata": {
        "id": "5ql76ldMjqDd",
        "colab_type": "text"
      },
      "source": [
        "Try to change values in the array and see how the picture changes."
      ]
    },
    {
      "cell_type": "markdown",
      "metadata": {
        "id": "lykCieLtjxH-",
        "colab_type": "text"
      },
      "source": [
        "This was just a short intro to matplotlib, for full documentation, API reference, examples, and even tutorials check out https://matplotlib.org/"
      ]
    }
  ]
}