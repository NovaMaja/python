{
  "nbformat": 4,
  "nbformat_minor": 0,
  "metadata": {
    "colab": {
      "name": "FamilyClasses.ipynb",
      "version": "0.3.2",
      "provenance": [],
      "include_colab_link": true
    },
    "kernelspec": {
      "name": "python3",
      "display_name": "Python 3"
    }
  },
  "cells": [
    {
      "cell_type": "markdown",
      "metadata": {
        "id": "view-in-github",
        "colab_type": "text"
      },
      "source": [
        "<a href=\"https://colab.research.google.com/github/NovaMaja/python/blob/master/FamilyClasses.ipynb\" target=\"_parent\"><img src=\"https://colab.research.google.com/assets/colab-badge.svg\" alt=\"Open In Colab\"/></a>"
      ]
    },
    {
      "metadata": {
        "id": "NT2mt7SCyE8z",
        "colab_type": "text"
      },
      "cell_type": "markdown",
      "source": [
        "#Family and Person Class\n",
        "This is an example of using classes in Python used in our Python for Data Science course at Nova Institute.\n",
        "\n",
        "*This notebook and example materials is developed by  [Nova Institute](https://novainstitute.ca) and is released under the [MIT license](https://github.com/NovaMaja/python/blob/master/LICENSE). *"
      ]
    },
    {
      "metadata": {
        "id": "cuHLJoNCs0mT",
        "colab_type": "code",
        "colab": {}
      },
      "cell_type": "code",
      "source": [
        "class Person:\n",
        "  def __init__(self, name):\n",
        "    self.name = name\n",
        "  \n",
        "  def eat(self):\n",
        "    print(self.name + ' is eating')"
      ],
      "execution_count": 0,
      "outputs": []
    },
    {
      "metadata": {
        "id": "FGgyhveCveXV",
        "colab_type": "code",
        "colab": {}
      },
      "cell_type": "code",
      "source": [
        "class Family:\n",
        "  \n",
        "  def __init__(self, mother_name, father_name, child_name):\n",
        "    self.mother = Person(mother_name)\n",
        "    self.father = Person(father_name)\n",
        "    self.child = Person(child_name)\n",
        "  \n",
        "  def eat_dinner(self):\n",
        "    print(\"Let's eat dinner!\")\n",
        "    self.mother.eat()\n",
        "    self.father.eat()\n",
        "    self.child.eat()"
      ],
      "execution_count": 0,
      "outputs": []
    }
  ]
}