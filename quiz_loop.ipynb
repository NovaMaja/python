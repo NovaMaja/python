{
  "nbformat": 4,
  "nbformat_minor": 0,
  "metadata": {
    "colab": {
      "name": "quiz_loop.ipynb",
      "version": "0.3.2",
      "provenance": [],
      "include_colab_link": true
    },
    "kernelspec": {
      "name": "python3",
      "display_name": "Python 3"
    }
  },
  "cells": [
    {
      "cell_type": "markdown",
      "metadata": {
        "id": "view-in-github",
        "colab_type": "text"
      },
      "source": [
        "<a href=\"https://colab.research.google.com/github/NovaMaja/python/blob/master/quiz_loop.ipynb\" target=\"_parent\"><img src=\"https://colab.research.google.com/assets/colab-badge.svg\" alt=\"Open In Colab\"/></a>"
      ]
    },
    {
      "cell_type": "code",
      "metadata": {
        "id": "nMMa5Ji2uVz-",
        "colab_type": "code",
        "colab": {}
      },
      "source": [
        "def question(question_text, right_answer, alt_answers, alt_responses):\n",
        "  score = 0\n",
        "  a = input(question_text)\n",
        "  if a == right_answer:\n",
        "    print('Bravo!')\n",
        "    score = 1\n",
        "  else:\n",
        "    i = 0\n",
        "    for ans in alt_answers: \n",
        "      if a == ans:\n",
        "        print(alt_responses[i])\n",
        "      i = i + 1\n",
        "  return score"
      ],
      "execution_count": 0,
      "outputs": []
    },
    {
      "cell_type": "code",
      "metadata": {
        "id": "eWx5B8dAv7rz",
        "colab_type": "code",
        "colab": {
          "base_uri": "https://localhost:8080/",
          "height": 84
        },
        "outputId": "c54085fa-0e66-4c2e-ce2f-5a6630c9339a"
      },
      "source": [
        "\n",
        "q = 'What color is my phone?'\n",
        "right_answer = 'Red'\n",
        "alt_answers = ['Pink', 'Orange', 'Black']\n",
        "alt_responses = ['Almost, but darker', 'Less yellow', 'That is way off!']\n",
        "\n",
        "phone_question = [q, right_answer, alt_answers, alt_responses]\n",
        "\n",
        "q= 'What color is my table?'\n",
        "right_answer = 'Brown'\n",
        "alt_answers = ['Red', 'Orange', 'Black']\n",
        "alt_responses = ['Almost, but darker', 'Less yellow', 'That is way off!']\n",
        "\n",
        "table_question = [q, right_answer, alt_answers, alt_responses]\n",
        "\n",
        "questions = [phone_question, table_question]\n",
        "\n",
        "score = 0\n",
        "\n",
        "for quest in questions:\n",
        "  score = score + question(quest[0], quest[1], quest[2], quest[3])\n",
        "\n",
        "print('You have {} points'.format(score))\n",
        "\n",
        "\n"
      ],
      "execution_count": 17,
      "outputs": [
        {
          "output_type": "stream",
          "text": [
            "What color is my phone?Red\n",
            "Bravo!\n",
            "What color is my table?Pink\n",
            "You have 1 points\n"
          ],
          "name": "stdout"
        }
      ]
    },
    {
      "cell_type": "code",
      "metadata": {
        "id": "FQ0AuN_nx9RJ",
        "colab_type": "code",
        "colab": {}
      },
      "source": [
        ""
      ],
      "execution_count": 0,
      "outputs": []
    }
  ]
}