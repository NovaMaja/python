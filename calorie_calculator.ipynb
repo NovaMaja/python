{
  "nbformat": 4,
  "nbformat_minor": 0,
  "metadata": {
    "colab": {
      "name": "calorie_calculator.ipynb",
      "version": "0.3.2",
      "provenance": [],
      "include_colab_link": true
    },
    "kernelspec": {
      "name": "python3",
      "display_name": "Python 3"
    }
  },
  "cells": [
    {
      "cell_type": "markdown",
      "metadata": {
        "id": "view-in-github",
        "colab_type": "text"
      },
      "source": [
        "<a href=\"https://colab.research.google.com/github/NovaMaja/python/blob/master/calorie_calculator.ipynb\" target=\"_parent\"><img src=\"https://colab.research.google.com/assets/colab-badge.svg\" alt=\"Open In Colab\"/></a>"
      ]
    },
    {
      "metadata": {
        "id": "37Onbw0fKEaT",
        "colab_type": "text"
      },
      "cell_type": "markdown",
      "source": [
        "# Calorie Calculator\n",
        "\n",
        "This program was developed by the Python for Data Science class at Nova Institute to try out some of the things we learned the first class.\n"
      ]
    },
    {
      "metadata": {
        "id": "Knv7A0HeKibU",
        "colab_type": "text"
      },
      "cell_type": "markdown",
      "source": [
        "##Calculation function\n",
        "This is a function to calculate calories in food. It seems to be partial to apples and ice cream ;)"
      ]
    },
    {
      "metadata": {
        "id": "c2T2XxAEAfhE",
        "colab_type": "code",
        "colab": {}
      },
      "cell_type": "code",
      "source": [
        "def calculate_calories(food):\n",
        "  if food == 'ice cream':\n",
        "    calories = 400\n",
        "  elif food == 'apple':\n",
        "    calories = 50\n",
        "  else:\n",
        "    calories = \"too many\"\n",
        "  return calories"
      ],
      "execution_count": 0,
      "outputs": []
    },
    {
      "metadata": {
        "id": "A_xpF0X0K6PL",
        "colab_type": "text"
      },
      "cell_type": "markdown",
      "source": [
        "We added a function to ask for the user's name"
      ]
    },
    {
      "metadata": {
        "id": "h9_RsIsbB2m1",
        "colab_type": "code",
        "colab": {}
      },
      "cell_type": "code",
      "source": [
        "def ask_for_name():\n",
        "  return input('What is your name?')"
      ],
      "execution_count": 0,
      "outputs": []
    },
    {
      "metadata": {
        "id": "4mJetm1BLG9j",
        "colab_type": "text"
      },
      "cell_type": "markdown",
      "source": [
        "Finally we programmed a menu "
      ]
    },
    {
      "metadata": {
        "id": "tTswKijRCcD6",
        "colab_type": "code",
        "outputId": "f3e7d0a4-e98e-4b74-92aa-57d1cbf0c69b",
        "colab": {
          "base_uri": "https://localhost:8080/",
          "height": 102
        }
      },
      "cell_type": "code",
      "source": [
        "print('Welcome {}'.format(ask_for_name()))\n",
        "choice = input(\"would you like to check calories?\")\n",
        "if choice == 'yes':\n",
        "  #ask what food to calculate for\n",
        "  food = input('what kind of food do you want to calculate?')\n",
        "  #calculate calories\n",
        "  cal = calculate_calories(food)\n",
        "  print('{} has {} calories'.format(food, cal))\n",
        "elif choice == 'no':\n",
        "  # say goodbye\n",
        "  print('Bye bye')\n",
        "else: \n",
        "  #say they need to input yes or no\n",
        "  print('please input yes or no')"
      ],
      "execution_count": 3,
      "outputs": [
        {
          "output_type": "stream",
          "text": [
            "What is your name?Maja\n",
            "Welcome Maja\n",
            "would you like to check calories?yes\n",
            "what kind of food do you want to calculate?banana\n",
            "banana has Too Much calories\n"
          ],
          "name": "stdout"
        }
      ]
    }
  ]
}